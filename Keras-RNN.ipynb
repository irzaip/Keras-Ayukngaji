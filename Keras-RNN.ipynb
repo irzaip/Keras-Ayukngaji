{
 "cells": [
  {
   "cell_type": "markdown",
   "metadata": {},
   "source": [
    "# TRAIN KERAS MODEL - Ayukngaji "
   ]
  },
  {
   "cell_type": "code",
   "execution_count": 1,
   "metadata": {},
   "outputs": [
    {
     "name": "stderr",
     "output_type": "stream",
     "text": [
      "C:\\Anaconda3\\envs\\tensorflow\\lib\\site-packages\\h5py\\__init__.py:36: FutureWarning: Conversion of the second argument of issubdtype from `float` to `np.floating` is deprecated. In future, it will be treated as `np.float64 == np.dtype(float).type`.\n",
      "  from ._conv import register_converters as _register_converters\n"
     ]
    }
   ],
   "source": [
    "%matplotlib inline\n",
    "import matplotlib.pyplot as plt\n",
    "import tensorflow as tf\n",
    "import numpy as np\n",
    "import math\n",
    "import os\n",
    "import random\n",
    "from tensorflow.python.platform import gfile\n",
    "import librosa\n",
    "import librosa.display as ld\n",
    "\n",
    "#for removing future warnings\n",
    "import warnings\n",
    "warnings.filterwarnings('ignore')\n",
    "from array import array"
   ]
  },
  {
   "cell_type": "markdown",
   "metadata": {},
   "source": [
    "Note: import keras seperti ini."
   ]
  },
  {
   "cell_type": "code",
   "execution_count": 2,
   "metadata": {},
   "outputs": [],
   "source": [
    "# from tf.keras.models import Sequential  # Tidak bisa!\n",
    "from tensorflow.python.keras.models import Sequential\n",
    "from tensorflow.python.keras.layers import InputLayer, Input\n",
    "from tensorflow.python.keras.layers import Reshape, MaxPooling2D\n",
    "from tensorflow.python.keras.layers import Conv2D, Dense, Flatten\n",
    "from tensorflow.python.keras.layers import Embedding, LSTM"
   ]
  },
  {
   "cell_type": "markdown",
   "metadata": {},
   "source": [
    "This was developed using Python 3.6 (Anaconda) and TensorFlow version:"
   ]
  },
  {
   "cell_type": "code",
   "execution_count": 3,
   "metadata": {
    "scrolled": true
   },
   "outputs": [
    {
     "data": {
      "text/plain": [
       "'1.6.0'"
      ]
     },
     "execution_count": 3,
     "metadata": {},
     "output_type": "execute_result"
    }
   ],
   "source": [
    "tf.__version__"
   ]
  },
  {
   "cell_type": "code",
   "execution_count": 4,
   "metadata": {},
   "outputs": [
    {
     "data": {
      "text/plain": [
       "'2.1.3-tf'"
      ]
     },
     "execution_count": 4,
     "metadata": {},
     "output_type": "execute_result"
    }
   ],
   "source": [
    "tf.keras.__version__"
   ]
  },
  {
   "cell_type": "markdown",
   "metadata": {},
   "source": [
    "## Manual load Spectogram\n",
    "\n",
    "Berikut tools untuk load batch"
   ]
  },
  {
   "cell_type": "code",
   "execution_count": 16,
   "metadata": {},
   "outputs": [],
   "source": [
    "\"\"\"\n",
    "DAAATASET\n",
    "\"\"\"\n",
    "DEBUG = False\n",
    "PATH_TRAIN = os.getcwd()+'/data/train'\n",
    "PATH_TEST = os.getcwd()+'/data/test'\n",
    "LOGDIR = 'log/'\n",
    "TEST_LOGDIR = 'log_test/'\n",
    "LABEL_TO_INDEX_MAP = {}\n",
    "WIDTH = 1025\n",
    "HEIGHT = 1\n",
    "NUM_LABELS = 0\n",
    "BATCHRUN = 10\n",
    "EPOCHS = 5\n",
    "msframe = 320 #jumlah frame yang mau dianalisa\n",
    "sequence = 5 #jumlah deret yang di ambil"
   ]
  },
  {
   "cell_type": "code",
   "execution_count": 6,
   "metadata": {},
   "outputs": [],
   "source": [
    "def init(path):\n",
    "    labels = os.listdir(path)\n",
    "    index = 0\n",
    "    for label in labels:\n",
    "        LABEL_TO_INDEX_MAP[label] = index\n",
    "        index += 1\n",
    "        \n",
    "    global NUM_LABELS\n",
    "    NUM_LABELS = len(LABEL_TO_INDEX_MAP)\n",
    "    print(LABEL_TO_INDEX_MAP)"
   ]
  },
  {
   "cell_type": "code",
   "execution_count": 7,
   "metadata": {},
   "outputs": [],
   "source": [
    "def one_hot_encoding(label):\n",
    "    encoding = [0] * len(LABEL_TO_INDEX_MAP)\n",
    "    encoding[LABEL_TO_INDEX_MAP[label]] = 1\n",
    "    return encoding"
   ]
  },
  {
   "cell_type": "code",
   "execution_count": 8,
   "metadata": {},
   "outputs": [],
   "source": [
    "def get_mfcc(wave_path, PAD_WIDTH=WIDTH):\n",
    "    #print(wave_path)\n",
    "    wv, sr = librosa.load(wave_path, sr=16000)\n",
    "    ln_max = len(wv)\n",
    "\n",
    "    #jumlah frame\n",
    "    jf = len(wv)// msframe\n",
    "    nD = []\n",
    "    for i in range(jf-1):\n",
    "        \n",
    "        wav = wv[(msframe*i):(msframe*i)+msframe]\n",
    "        #print(wav)\n",
    "        D = librosa.amplitude_to_db(librosa.magphase(librosa.stft(wav))[0])\n",
    "\n",
    "        #if want to see the graph\n",
    "        #ld.specshow(D, y_axis='log')\n",
    "        #plt.title(\"Power db - \"+ str(D.shape))\n",
    "        #plt.show()\n",
    "        #print(D)\n",
    "        \n",
    "        #put into array\n",
    "        nD.append(D)\n",
    "    return nD\n",
    "                                \n",
    "def get_mfcc2(wave_path, PAD_WIDTH=WIDTH):\n",
    "    if DEBUG:\n",
    "        print(wave_path)\n",
    "\n",
    "    #mfcc\n",
    "    #wave, sr = librosa.load(wave_path, mono=True, duration=0.5)\n",
    "    #mfccs = librosa.amplitude_to_db(librosa.stft(wave))\n",
    "    #mfccs = librosa.feature.mfcc(wave,sr=22050,n_mfcc=HEIGHT)\n",
    "    #mfccs = np.pad(mfccs,((0,0), (0, PAD_WIDTH - len(mfccs[0]))), mode='constant')\n",
    "    \n",
    "    #test spectogram\n",
    "    wv, sr = librosa.load(wave_path, sr=16000)\n",
    "    ln_max = len(wv)-320\n",
    "    f = random.randint(0,ln_max)\n",
    "    wv = wv[f:f+320]\n",
    "    \n",
    "    #sr, wv = read(filename)\n",
    "    #wv = wv.astype('float')\n",
    "    D = librosa.amplitude_to_db(librosa.magphase(librosa.stft(wv))[0])\n",
    "    print(wave_path,D.shape)\n",
    "    \n",
    "    #return mfccs\n",
    "    return D"
   ]
  },
  {
   "cell_type": "code",
   "execution_count": 9,
   "metadata": {},
   "outputs": [],
   "source": [
    "def get_batch(batch_size, path):\n",
    "    X = []\n",
    "    Y = []\n",
    "    random.seed(5896)\n",
    "    path = os.path.join(path,'*', '*.wav')\n",
    "    waves = gfile.Glob(path)\n",
    "    while True:\n",
    "        random.shuffle(waves)\n",
    "        for wave_path in waves:\n",
    "            _,label = os.path.split(os.path.dirname(wave_path))\n",
    "            X.append(get_mfcc(wave_path))\n",
    "            Y.append(one_hot_encoding(label))\n",
    "\n",
    "            if (len(X) == batch_size):\n",
    "                yield X, Y\n",
    "                X = []\n",
    "                Y = []"
   ]
  },
  {
   "cell_type": "code",
   "execution_count": 10,
   "metadata": {},
   "outputs": [],
   "source": [
    "def my_plot(data, title=\"\"):\n",
    "    H = data\n",
    "    fig = plt.figure(figsize=(2, 2))\n",
    "\n",
    "    ax = fig.add_subplot(111)\n",
    "    ax.set_title(title)\n",
    "    plt.imshow(H)\n",
    "    ax.set_aspect('equal')\n",
    "\n",
    "    #cax = fig.add_axes([0.12, 0.1, 0.78, 0.8])\n",
    "    cax.get_xaxis().set_visible(False)\n",
    "    cax.get_yaxis().set_visible(False)\n",
    "    cax.patch.set_alpha(0)\n",
    "    cax.set_frame_on(False)\n",
    "    #plt.colorbar(orientation='vertical')\n",
    "    plt.show()"
   ]
  },
  {
   "cell_type": "markdown",
   "metadata": {},
   "source": [
    "## Data Dimensions"
   ]
  },
  {
   "cell_type": "markdown",
   "metadata": {},
   "source": [
    "setting ukuran matriks"
   ]
  },
  {
   "cell_type": "code",
   "execution_count": 11,
   "metadata": {},
   "outputs": [],
   "source": [
    "# We know that MNIST images are 28 pixels in each dimension.\n",
    "img_size_x = WIDTH\n",
    "img_size_y = HEIGHT\n",
    "\n",
    "# Images are stored in one-dimensional arrays of this length.\n",
    "img_size_flat = img_size_x * img_size_y\n",
    "\n",
    "# Tuple with height and width of images used to reshape arrays.\n",
    "# This is used for plotting the images.\n",
    "img_shape = (img_size_x, img_size_y)\n",
    "\n",
    "# Tuple with height, width and depth used to reshape arrays.\n",
    "# This is used for reshaping in Keras.\n",
    "img_shape_full = (img_size_x, img_size_y, 1)\n",
    "\n",
    "# Number of colour channels for the images: 1 channel for gray-scale.\n",
    "num_channels = 1\n",
    "\n",
    "# Number of classes, one class for each of 10 digits.\n",
    "num_classes = 6"
   ]
  },
  {
   "cell_type": "markdown",
   "metadata": {},
   "source": [
    "### Helper-function buat plot gambar"
   ]
  },
  {
   "cell_type": "markdown",
   "metadata": {},
   "source": [
    "Function used to plot 9 images in a 3x3 grid, and writing the true and predicted classes below each image."
   ]
  },
  {
   "cell_type": "code",
   "execution_count": 12,
   "metadata": {},
   "outputs": [],
   "source": [
    "def plot_images(images, cls_true, cls_pred=None):\n",
    "    assert len(images) == len(cls_true) == 9\n",
    "    \n",
    "    # Create figure with 3x3 sub-plots.\n",
    "    fig, axes = plt.subplots(3, 3)\n",
    "    fig.subplots_adjust(hspace=0.3, wspace=0.3)\n",
    "\n",
    "    for i, ax in enumerate(axes.flat):\n",
    "        # Plot image.\n",
    "        ax.imshow(images[i].reshape(img_shape), cmap='binary')\n",
    "\n",
    "        # Show true and predicted classes.\n",
    "        if cls_pred is None:\n",
    "            xlabel = \"True: {0}\".format(cls_true[i])\n",
    "        else:\n",
    "            xlabel = \"True: {0}, Pred: {1}\".format(cls_true[i], cls_pred[i])\n",
    "\n",
    "        # Show the classes as the label on the x-axis.\n",
    "        ax.set_xlabel(xlabel)\n",
    "        \n",
    "        # Remove ticks from the plot.\n",
    "        ax.set_xticks([])\n",
    "        ax.set_yticks([])\n",
    "    \n",
    "    # Ensure the plot is shown correctly with multiple plots\n",
    "    # in a single Notebook cell.\n",
    "    plt.show()"
   ]
  },
  {
   "cell_type": "markdown",
   "metadata": {},
   "source": [
    "## Sequential Model\n",
    "\n",
    "Model dari Keras"
   ]
  },
  {
   "cell_type": "code",
   "execution_count": 13,
   "metadata": {
    "scrolled": true
   },
   "outputs": [],
   "source": [
    "model3 = Sequential()\n",
    "#model3.add(Embedding(20000,128))\n",
    "\n",
    "model3.add(LSTM(128,dropout=0.2,recurrent_dropout=0.2,input_shape=(5,1025),return_sequences=True))\n",
    "model3.add(LSTM(128,dropout=0.2,recurrent_dropout=0.2,input_shape=(5,1025),return_sequences=False))\n",
    "\n",
    "model3.add(Dense(6,activation='sigmoid'))\n",
    "model3.compile(loss='categorical_crossentropy', optimizer='adam', metrics=['accuracy'])"
   ]
  },
  {
   "cell_type": "code",
   "execution_count": 14,
   "metadata": {},
   "outputs": [],
   "source": [
    "from tensorflow.python.keras.optimizers import Adam\n",
    "\n",
    "optimizer = Adam(lr=1e-4)"
   ]
  },
  {
   "cell_type": "markdown",
   "metadata": {},
   "source": [
    "### Training\n",
    "\n",
    "Tempat training keseluruhan"
   ]
  },
  {
   "cell_type": "code",
   "execution_count": 17,
   "metadata": {},
   "outputs": [
    {
     "name": "stdout",
     "output_type": "stream",
     "text": [
      "{'ba': 0, 'ju': 1, 'mi': 2, 'nu': 3, 'si': 4, 'ta': 5}\n"
     ]
    }
   ],
   "source": [
    "init(PATH_TRAIN)\n",
    "batch = get_batch(BATCHRUN,PATH_TRAIN)\n",
    "X, Y = next(batch)"
   ]
  },
  {
   "cell_type": "code",
   "execution_count": 18,
   "metadata": {},
   "outputs": [],
   "source": [
    "x_train=[]\n",
    "y_train=[]\n",
    "for i in range(len(X)):\n",
    "    lx = len(X[i])\n",
    "    ld = len(X[i]) // sequence\n",
    "    ds = []\n",
    "    for ll in range(len(X[i])-sequence):\n",
    "        ds = X[i][ll:ll+sequence]\n",
    "        #print(ds)\n",
    "        x_train.append(np.array(ds).reshape(5,1025))\n",
    "        y_train.append(Y[i])"
   ]
  },
  {
   "cell_type": "code",
   "execution_count": 20,
   "metadata": {},
   "outputs": [],
   "source": [
    "xx = np.array(x_train, dtype=float)\n",
    "yy = np.array(y_train, dtype=float)"
   ]
  },
  {
   "cell_type": "code",
   "execution_count": 22,
   "metadata": {
    "scrolled": true
   },
   "outputs": [
    {
     "data": {
      "text/plain": [
       "(10466, 5, 1025)"
      ]
     },
     "execution_count": 22,
     "metadata": {},
     "output_type": "execute_result"
    }
   ],
   "source": [
    "xx.shape"
   ]
  },
  {
   "cell_type": "code",
   "execution_count": 23,
   "metadata": {},
   "outputs": [
    {
     "name": "stdout",
     "output_type": "stream",
     "text": [
      "Epoch 1/50\n",
      " - 8s - loss: 1.7597 - acc: 0.1986\n",
      "Epoch 2/50\n",
      " - 7s - loss: 1.7570 - acc: 0.2040\n",
      "Epoch 3/50\n"
     ]
    },
    {
     "ename": "KeyboardInterrupt",
     "evalue": "",
     "output_type": "error",
     "traceback": [
      "\u001b[1;31m---------------------------------------------------------------------------\u001b[0m",
      "\u001b[1;31mKeyboardInterrupt\u001b[0m                         Traceback (most recent call last)",
      "\u001b[1;32m<ipython-input-23-be0c8940c3b0>\u001b[0m in \u001b[0;36m<module>\u001b[1;34m()\u001b[0m\n\u001b[1;32m----> 1\u001b[1;33m \u001b[0mmodel3\u001b[0m\u001b[1;33m.\u001b[0m\u001b[0mfit\u001b[0m\u001b[1;33m(\u001b[0m\u001b[0mx\u001b[0m\u001b[1;33m=\u001b[0m\u001b[0mnp\u001b[0m\u001b[1;33m.\u001b[0m\u001b[0marray\u001b[0m\u001b[1;33m(\u001b[0m\u001b[0mxx\u001b[0m\u001b[1;33m)\u001b[0m\u001b[1;33m,\u001b[0m\u001b[0my\u001b[0m\u001b[1;33m=\u001b[0m\u001b[0mnp\u001b[0m\u001b[1;33m.\u001b[0m\u001b[0marray\u001b[0m\u001b[1;33m(\u001b[0m\u001b[0myy\u001b[0m\u001b[1;33m)\u001b[0m\u001b[1;33m,\u001b[0m \u001b[0mepochs\u001b[0m\u001b[1;33m=\u001b[0m\u001b[1;36m50\u001b[0m\u001b[1;33m,\u001b[0m \u001b[0mverbose\u001b[0m\u001b[1;33m=\u001b[0m\u001b[1;36m2\u001b[0m \u001b[1;33m)\u001b[0m\u001b[1;33m\u001b[0m\u001b[0m\n\u001b[0m",
      "\u001b[1;32mC:\\Anaconda3\\envs\\tensorflow\\lib\\site-packages\\tensorflow\\python\\keras\\_impl\\keras\\models.py\u001b[0m in \u001b[0;36mfit\u001b[1;34m(self, x, y, batch_size, epochs, verbose, callbacks, validation_split, validation_data, shuffle, class_weight, sample_weight, initial_epoch, steps_per_epoch, validation_steps, **kwargs)\u001b[0m\n\u001b[0;32m    918\u001b[0m         \u001b[0minitial_epoch\u001b[0m\u001b[1;33m=\u001b[0m\u001b[0minitial_epoch\u001b[0m\u001b[1;33m,\u001b[0m\u001b[1;33m\u001b[0m\u001b[0m\n\u001b[0;32m    919\u001b[0m         \u001b[0msteps_per_epoch\u001b[0m\u001b[1;33m=\u001b[0m\u001b[0msteps_per_epoch\u001b[0m\u001b[1;33m,\u001b[0m\u001b[1;33m\u001b[0m\u001b[0m\n\u001b[1;32m--> 920\u001b[1;33m         validation_steps=validation_steps)\n\u001b[0m\u001b[0;32m    921\u001b[0m \u001b[1;33m\u001b[0m\u001b[0m\n\u001b[0;32m    922\u001b[0m   \u001b[1;32mdef\u001b[0m \u001b[0mevaluate\u001b[0m\u001b[1;33m(\u001b[0m\u001b[0mself\u001b[0m\u001b[1;33m,\u001b[0m \u001b[0mx\u001b[0m\u001b[1;33m,\u001b[0m \u001b[0my\u001b[0m\u001b[1;33m,\u001b[0m \u001b[0mbatch_size\u001b[0m\u001b[1;33m=\u001b[0m\u001b[1;36m32\u001b[0m\u001b[1;33m,\u001b[0m \u001b[0mverbose\u001b[0m\u001b[1;33m=\u001b[0m\u001b[1;36m1\u001b[0m\u001b[1;33m,\u001b[0m \u001b[0msample_weight\u001b[0m\u001b[1;33m=\u001b[0m\u001b[1;32mNone\u001b[0m\u001b[1;33m)\u001b[0m\u001b[1;33m:\u001b[0m\u001b[1;33m\u001b[0m\u001b[0m\n",
      "\u001b[1;32mC:\\Anaconda3\\envs\\tensorflow\\lib\\site-packages\\tensorflow\\python\\keras\\_impl\\keras\\engine\\training.py\u001b[0m in \u001b[0;36mfit\u001b[1;34m(self, x, y, batch_size, epochs, verbose, callbacks, validation_split, validation_data, shuffle, class_weight, sample_weight, initial_epoch, steps_per_epoch, validation_steps, **kwargs)\u001b[0m\n\u001b[0;32m   1791\u001b[0m           \u001b[0minitial_epoch\u001b[0m\u001b[1;33m=\u001b[0m\u001b[0minitial_epoch\u001b[0m\u001b[1;33m,\u001b[0m\u001b[1;33m\u001b[0m\u001b[0m\n\u001b[0;32m   1792\u001b[0m           \u001b[0msteps_per_epoch\u001b[0m\u001b[1;33m=\u001b[0m\u001b[0msteps_per_epoch\u001b[0m\u001b[1;33m,\u001b[0m\u001b[1;33m\u001b[0m\u001b[0m\n\u001b[1;32m-> 1793\u001b[1;33m           validation_steps=validation_steps)\n\u001b[0m\u001b[0;32m   1794\u001b[0m \u001b[1;33m\u001b[0m\u001b[0m\n\u001b[0;32m   1795\u001b[0m   def evaluate(self,\n",
      "\u001b[1;32mC:\\Anaconda3\\envs\\tensorflow\\lib\\site-packages\\tensorflow\\python\\keras\\_impl\\keras\\engine\\training.py\u001b[0m in \u001b[0;36m_fit_loop\u001b[1;34m(self, f, ins, out_labels, batch_size, epochs, verbose, callbacks, val_f, val_ins, shuffle, callback_metrics, initial_epoch, steps_per_epoch, validation_steps)\u001b[0m\n\u001b[0;32m   1281\u001b[0m             \u001b[0mins_batch\u001b[0m\u001b[1;33m[\u001b[0m\u001b[0mi\u001b[0m\u001b[1;33m]\u001b[0m \u001b[1;33m=\u001b[0m \u001b[0mins_batch\u001b[0m\u001b[1;33m[\u001b[0m\u001b[0mi\u001b[0m\u001b[1;33m]\u001b[0m\u001b[1;33m.\u001b[0m\u001b[0mtoarray\u001b[0m\u001b[1;33m(\u001b[0m\u001b[1;33m)\u001b[0m\u001b[1;33m\u001b[0m\u001b[0m\n\u001b[0;32m   1282\u001b[0m \u001b[1;33m\u001b[0m\u001b[0m\n\u001b[1;32m-> 1283\u001b[1;33m           \u001b[0mouts\u001b[0m \u001b[1;33m=\u001b[0m \u001b[0mf\u001b[0m\u001b[1;33m(\u001b[0m\u001b[0mins_batch\u001b[0m\u001b[1;33m)\u001b[0m\u001b[1;33m\u001b[0m\u001b[0m\n\u001b[0m\u001b[0;32m   1284\u001b[0m           \u001b[1;32mif\u001b[0m \u001b[1;32mnot\u001b[0m \u001b[0misinstance\u001b[0m\u001b[1;33m(\u001b[0m\u001b[0mouts\u001b[0m\u001b[1;33m,\u001b[0m \u001b[0mlist\u001b[0m\u001b[1;33m)\u001b[0m\u001b[1;33m:\u001b[0m\u001b[1;33m\u001b[0m\u001b[0m\n\u001b[0;32m   1285\u001b[0m             \u001b[0mouts\u001b[0m \u001b[1;33m=\u001b[0m \u001b[1;33m[\u001b[0m\u001b[0mouts\u001b[0m\u001b[1;33m]\u001b[0m\u001b[1;33m\u001b[0m\u001b[0m\n",
      "\u001b[1;32mC:\\Anaconda3\\envs\\tensorflow\\lib\\site-packages\\tensorflow\\python\\keras\\_impl\\keras\\backend.py\u001b[0m in \u001b[0;36m__call__\u001b[1;34m(self, inputs)\u001b[0m\n\u001b[0;32m   2661\u001b[0m     \u001b[0msession\u001b[0m \u001b[1;33m=\u001b[0m \u001b[0mget_session\u001b[0m\u001b[1;33m(\u001b[0m\u001b[1;33m)\u001b[0m\u001b[1;33m\u001b[0m\u001b[0m\n\u001b[0;32m   2662\u001b[0m     updated = session.run(\n\u001b[1;32m-> 2663\u001b[1;33m         fetches=fetches, feed_dict=feed_dict, **self.session_kwargs)\n\u001b[0m\u001b[0;32m   2664\u001b[0m     \u001b[1;32mreturn\u001b[0m \u001b[0mupdated\u001b[0m\u001b[1;33m[\u001b[0m\u001b[1;33m:\u001b[0m\u001b[0mlen\u001b[0m\u001b[1;33m(\u001b[0m\u001b[0mself\u001b[0m\u001b[1;33m.\u001b[0m\u001b[0moutputs\u001b[0m\u001b[1;33m)\u001b[0m\u001b[1;33m]\u001b[0m\u001b[1;33m\u001b[0m\u001b[0m\n\u001b[0;32m   2665\u001b[0m \u001b[1;33m\u001b[0m\u001b[0m\n",
      "\u001b[1;32mC:\\Anaconda3\\envs\\tensorflow\\lib\\site-packages\\tensorflow\\python\\client\\session.py\u001b[0m in \u001b[0;36mrun\u001b[1;34m(self, fetches, feed_dict, options, run_metadata)\u001b[0m\n\u001b[0;32m    903\u001b[0m     \u001b[1;32mtry\u001b[0m\u001b[1;33m:\u001b[0m\u001b[1;33m\u001b[0m\u001b[0m\n\u001b[0;32m    904\u001b[0m       result = self._run(None, fetches, feed_dict, options_ptr,\n\u001b[1;32m--> 905\u001b[1;33m                          run_metadata_ptr)\n\u001b[0m\u001b[0;32m    906\u001b[0m       \u001b[1;32mif\u001b[0m \u001b[0mrun_metadata\u001b[0m\u001b[1;33m:\u001b[0m\u001b[1;33m\u001b[0m\u001b[0m\n\u001b[0;32m    907\u001b[0m         \u001b[0mproto_data\u001b[0m \u001b[1;33m=\u001b[0m \u001b[0mtf_session\u001b[0m\u001b[1;33m.\u001b[0m\u001b[0mTF_GetBuffer\u001b[0m\u001b[1;33m(\u001b[0m\u001b[0mrun_metadata_ptr\u001b[0m\u001b[1;33m)\u001b[0m\u001b[1;33m\u001b[0m\u001b[0m\n",
      "\u001b[1;32mC:\\Anaconda3\\envs\\tensorflow\\lib\\site-packages\\tensorflow\\python\\client\\session.py\u001b[0m in \u001b[0;36m_run\u001b[1;34m(self, handle, fetches, feed_dict, options, run_metadata)\u001b[0m\n\u001b[0;32m   1135\u001b[0m     \u001b[1;32mif\u001b[0m \u001b[0mfinal_fetches\u001b[0m \u001b[1;32mor\u001b[0m \u001b[0mfinal_targets\u001b[0m \u001b[1;32mor\u001b[0m \u001b[1;33m(\u001b[0m\u001b[0mhandle\u001b[0m \u001b[1;32mand\u001b[0m \u001b[0mfeed_dict_tensor\u001b[0m\u001b[1;33m)\u001b[0m\u001b[1;33m:\u001b[0m\u001b[1;33m\u001b[0m\u001b[0m\n\u001b[0;32m   1136\u001b[0m       results = self._do_run(handle, final_targets, final_fetches,\n\u001b[1;32m-> 1137\u001b[1;33m                              feed_dict_tensor, options, run_metadata)\n\u001b[0m\u001b[0;32m   1138\u001b[0m     \u001b[1;32melse\u001b[0m\u001b[1;33m:\u001b[0m\u001b[1;33m\u001b[0m\u001b[0m\n\u001b[0;32m   1139\u001b[0m       \u001b[0mresults\u001b[0m \u001b[1;33m=\u001b[0m \u001b[1;33m[\u001b[0m\u001b[1;33m]\u001b[0m\u001b[1;33m\u001b[0m\u001b[0m\n",
      "\u001b[1;32mC:\\Anaconda3\\envs\\tensorflow\\lib\\site-packages\\tensorflow\\python\\client\\session.py\u001b[0m in \u001b[0;36m_do_run\u001b[1;34m(self, handle, target_list, fetch_list, feed_dict, options, run_metadata)\u001b[0m\n\u001b[0;32m   1353\u001b[0m     \u001b[1;32mif\u001b[0m \u001b[0mhandle\u001b[0m \u001b[1;32mis\u001b[0m \u001b[1;32mNone\u001b[0m\u001b[1;33m:\u001b[0m\u001b[1;33m\u001b[0m\u001b[0m\n\u001b[0;32m   1354\u001b[0m       return self._do_call(_run_fn, self._session, feeds, fetches, targets,\n\u001b[1;32m-> 1355\u001b[1;33m                            options, run_metadata)\n\u001b[0m\u001b[0;32m   1356\u001b[0m     \u001b[1;32melse\u001b[0m\u001b[1;33m:\u001b[0m\u001b[1;33m\u001b[0m\u001b[0m\n\u001b[0;32m   1357\u001b[0m       \u001b[1;32mreturn\u001b[0m \u001b[0mself\u001b[0m\u001b[1;33m.\u001b[0m\u001b[0m_do_call\u001b[0m\u001b[1;33m(\u001b[0m\u001b[0m_prun_fn\u001b[0m\u001b[1;33m,\u001b[0m \u001b[0mself\u001b[0m\u001b[1;33m.\u001b[0m\u001b[0m_session\u001b[0m\u001b[1;33m,\u001b[0m \u001b[0mhandle\u001b[0m\u001b[1;33m,\u001b[0m \u001b[0mfeeds\u001b[0m\u001b[1;33m,\u001b[0m \u001b[0mfetches\u001b[0m\u001b[1;33m)\u001b[0m\u001b[1;33m\u001b[0m\u001b[0m\n",
      "\u001b[1;32mC:\\Anaconda3\\envs\\tensorflow\\lib\\site-packages\\tensorflow\\python\\client\\session.py\u001b[0m in \u001b[0;36m_do_call\u001b[1;34m(self, fn, *args)\u001b[0m\n\u001b[0;32m   1359\u001b[0m   \u001b[1;32mdef\u001b[0m \u001b[0m_do_call\u001b[0m\u001b[1;33m(\u001b[0m\u001b[0mself\u001b[0m\u001b[1;33m,\u001b[0m \u001b[0mfn\u001b[0m\u001b[1;33m,\u001b[0m \u001b[1;33m*\u001b[0m\u001b[0margs\u001b[0m\u001b[1;33m)\u001b[0m\u001b[1;33m:\u001b[0m\u001b[1;33m\u001b[0m\u001b[0m\n\u001b[0;32m   1360\u001b[0m     \u001b[1;32mtry\u001b[0m\u001b[1;33m:\u001b[0m\u001b[1;33m\u001b[0m\u001b[0m\n\u001b[1;32m-> 1361\u001b[1;33m       \u001b[1;32mreturn\u001b[0m \u001b[0mfn\u001b[0m\u001b[1;33m(\u001b[0m\u001b[1;33m*\u001b[0m\u001b[0margs\u001b[0m\u001b[1;33m)\u001b[0m\u001b[1;33m\u001b[0m\u001b[0m\n\u001b[0m\u001b[0;32m   1362\u001b[0m     \u001b[1;32mexcept\u001b[0m \u001b[0merrors\u001b[0m\u001b[1;33m.\u001b[0m\u001b[0mOpError\u001b[0m \u001b[1;32mas\u001b[0m \u001b[0me\u001b[0m\u001b[1;33m:\u001b[0m\u001b[1;33m\u001b[0m\u001b[0m\n\u001b[0;32m   1363\u001b[0m       \u001b[0mmessage\u001b[0m \u001b[1;33m=\u001b[0m \u001b[0mcompat\u001b[0m\u001b[1;33m.\u001b[0m\u001b[0mas_text\u001b[0m\u001b[1;33m(\u001b[0m\u001b[0me\u001b[0m\u001b[1;33m.\u001b[0m\u001b[0mmessage\u001b[0m\u001b[1;33m)\u001b[0m\u001b[1;33m\u001b[0m\u001b[0m\n",
      "\u001b[1;32mC:\\Anaconda3\\envs\\tensorflow\\lib\\site-packages\\tensorflow\\python\\client\\session.py\u001b[0m in \u001b[0;36m_run_fn\u001b[1;34m(session, feed_dict, fetch_list, target_list, options, run_metadata)\u001b[0m\n\u001b[0;32m   1338\u001b[0m         \u001b[1;32melse\u001b[0m\u001b[1;33m:\u001b[0m\u001b[1;33m\u001b[0m\u001b[0m\n\u001b[0;32m   1339\u001b[0m           return tf_session.TF_Run(session, options, feed_dict, fetch_list,\n\u001b[1;32m-> 1340\u001b[1;33m                                    target_list, status, run_metadata)\n\u001b[0m\u001b[0;32m   1341\u001b[0m \u001b[1;33m\u001b[0m\u001b[0m\n\u001b[0;32m   1342\u001b[0m     \u001b[1;32mdef\u001b[0m \u001b[0m_prun_fn\u001b[0m\u001b[1;33m(\u001b[0m\u001b[0msession\u001b[0m\u001b[1;33m,\u001b[0m \u001b[0mhandle\u001b[0m\u001b[1;33m,\u001b[0m \u001b[0mfeed_dict\u001b[0m\u001b[1;33m,\u001b[0m \u001b[0mfetch_list\u001b[0m\u001b[1;33m)\u001b[0m\u001b[1;33m:\u001b[0m\u001b[1;33m\u001b[0m\u001b[0m\n",
      "\u001b[1;31mKeyboardInterrupt\u001b[0m: "
     ]
    }
   ],
   "source": [
    "model3.fit(x=np.array(xx),y=np.array(yy), epochs=50, verbose=2 )"
   ]
  },
  {
   "cell_type": "code",
   "execution_count": 97,
   "metadata": {},
   "outputs": [
    {
     "data": {
      "image/png": "[encoded data removed]",
      "text/plain": [
       "<matplotlib.figure.Figure at 0x28c76dfcdd8>"
      ]
     },
     "metadata": {},
     "output_type": "display_data"
    }
   ],
   "source": [
    "for i in X[20]:\n",
    "    plt.plot(i)"
   ]
  },
  {
   "cell_type": "markdown",
   "metadata": {},
   "source": [
    "# STOP TRAINING DISINI"
   ]
  },
  {
   "cell_type": "code",
   "execution_count": null,
   "metadata": {},
   "outputs": [],
   "source": [
    "EPOCHS = 50\n",
    "model3.fit(x=np.array(xx),\n",
    "          y=np.array(yy),\n",
    "          epochs=EPOCHS, batch_size=BATCHRUN)"
   ]
  },
  {
   "cell_type": "markdown",
   "metadata": {},
   "source": [
    "### Evaluation\n",
    "\n",
    "Now that the model has been trained we can test its performance on the test-set. This also uses numpy-arrays as input."
   ]
  },
  {
   "cell_type": "code",
   "execution_count": null,
   "metadata": {},
   "outputs": [],
   "source": [
    "result = model3.evaluate(x=np.array(xx),\n",
    "                        y=np.array(yy))"
   ]
  },
  {
   "cell_type": "markdown",
   "metadata": {},
   "source": [
    "Print performa test"
   ]
  },
  {
   "cell_type": "code",
   "execution_count": null,
   "metadata": {},
   "outputs": [],
   "source": [
    "for name, value in zip(model3.metrics_names, result):\n",
    "    print(name, value)"
   ]
  },
  {
   "cell_type": "markdown",
   "metadata": {},
   "source": [
    "Or we can just print the classification accuracy."
   ]
  },
  {
   "cell_type": "code",
   "execution_count": null,
   "metadata": {},
   "outputs": [],
   "source": [
    "print(\"{0}: {1:.2%}\".format(model3.metrics_names[1], result[1]))"
   ]
  },
  {
   "cell_type": "markdown",
   "metadata": {},
   "source": [
    "### Prediksi\n",
    "\n",
    "coba disini bikin prediksi"
   ]
  },
  {
   "cell_type": "code",
   "execution_count": null,
   "metadata": {},
   "outputs": [],
   "source": [
    "y_pred = model3.predict(x=np.array(xx)[9].reshape(1,5,1025))"
   ]
  },
  {
   "cell_type": "code",
   "execution_count": null,
   "metadata": {},
   "outputs": [],
   "source": [
    "np.array(xx)[9].reshape(1,5,1025).shape"
   ]
  },
  {
   "cell_type": "code",
   "execution_count": null,
   "metadata": {},
   "outputs": [],
   "source": [
    "y_pred"
   ]
  },
  {
   "cell_type": "markdown",
   "metadata": {},
   "source": [
    "Ambil prediksi jadikan integer"
   ]
  },
  {
   "cell_type": "code",
   "execution_count": null,
   "metadata": {},
   "outputs": [],
   "source": [
    "cls_pred = np.argmax(y_pred,axis=1)"
   ]
  },
  {
   "cell_type": "markdown",
   "metadata": {},
   "source": [
    "## Save & Load Model"
   ]
  },
  {
   "cell_type": "code",
   "execution_count": null,
   "metadata": {},
   "outputs": [],
   "source": [
    "path_model = 'model.keras'"
   ]
  },
  {
   "cell_type": "code",
   "execution_count": null,
   "metadata": {
    "scrolled": true
   },
   "outputs": [],
   "source": [
    "model3.save(path_model)"
   ]
  },
  {
   "cell_type": "markdown",
   "metadata": {},
   "source": [
    "Hapus model"
   ]
  },
  {
   "cell_type": "code",
   "execution_count": null,
   "metadata": {},
   "outputs": [],
   "source": [
    "del model3"
   ]
  },
  {
   "cell_type": "markdown",
   "metadata": {},
   "source": [
    "Import lagi"
   ]
  },
  {
   "cell_type": "code",
   "execution_count": null,
   "metadata": {},
   "outputs": [],
   "source": [
    "from tensorflow.python.keras.models import load_model"
   ]
  },
  {
   "cell_type": "markdown",
   "metadata": {},
   "source": [
    "Panggil model"
   ]
  },
  {
   "cell_type": "code",
   "execution_count": null,
   "metadata": {},
   "outputs": [],
   "source": [
    "model3 = load_model(path_model)"
   ]
  },
  {
   "cell_type": "markdown",
   "metadata": {},
   "source": [
    "Coba test model yang di load"
   ]
  },
  {
   "cell_type": "code",
   "execution_count": null,
   "metadata": {},
   "outputs": [],
   "source": [
    "BATCHRUN=10\n",
    "init(PATH_TEST)\n",
    "batch = get_batch(BATCHRUN,PATH_TEST)\n",
    "X, Y = next(batch)\n",
    "\n",
    "x_train=[]\n",
    "y_train=[]\n",
    "for i in range(len(X)):\n",
    "    lx = len(X[i])\n",
    "    ld = len(X[i]) // sequence\n",
    "    ds = []\n",
    "    for ll in range(len(X[i])-sequence):\n",
    "        ds = X[i][ll:ll+sequence]\n",
    "        #print(ds)\n",
    "        x_train.append(np.array(ds).reshape(5,1025))\n",
    "        y_train.append(Y[i])\n",
    "\n",
    "xx = np.array(x_train, dtype=float)\n",
    "yy = np.array(y_train, dtype=float)"
   ]
  },
  {
   "cell_type": "code",
   "execution_count": null,
   "metadata": {},
   "outputs": [],
   "source": [
    "y_pred = model3.predict(x=np.array(xx)[39].reshape(1,5,1025))"
   ]
  },
  {
   "cell_type": "code",
   "execution_count": null,
   "metadata": {},
   "outputs": [],
   "source": [
    "y_pred"
   ]
  },
  {
   "cell_type": "code",
   "execution_count": null,
   "metadata": {},
   "outputs": [],
   "source": [
    "yy[39]"
   ]
  },
  {
   "cell_type": "code",
   "execution_count": null,
   "metadata": {},
   "outputs": [],
   "source": [
    "cls_pred = np.argmax(y_pred, axis=1)"
   ]
  },
  {
   "cell_type": "code",
   "execution_count": 98,
   "metadata": {
    "scrolled": true
   },
   "outputs": [
    {
     "ename": "NameError",
     "evalue": "name 'model' is not defined",
     "output_type": "error",
     "traceback": [
      "\u001b[1;31m---------------------------------------------------------------------------\u001b[0m",
      "\u001b[1;31mNameError\u001b[0m                                 Traceback (most recent call last)",
      "\u001b[1;32m<ipython-input-98-7ab1feff7f0c>\u001b[0m in \u001b[0;36m<module>\u001b[1;34m()\u001b[0m\n\u001b[0;32m      1\u001b[0m \u001b[1;31m#Cek akurasi\u001b[0m\u001b[1;33m\u001b[0m\u001b[1;33m\u001b[0m\u001b[0m\n\u001b[1;32m----> 2\u001b[1;33m \u001b[1;32mfor\u001b[0m \u001b[0mname\u001b[0m\u001b[1;33m,\u001b[0m \u001b[0mvalue\u001b[0m \u001b[1;32min\u001b[0m \u001b[0mzip\u001b[0m\u001b[1;33m(\u001b[0m\u001b[0mmodel\u001b[0m\u001b[1;33m.\u001b[0m\u001b[0mmetrics_names\u001b[0m\u001b[1;33m,\u001b[0m \u001b[0mresult\u001b[0m\u001b[1;33m)\u001b[0m\u001b[1;33m:\u001b[0m\u001b[1;33m\u001b[0m\u001b[0m\n\u001b[0m\u001b[0;32m      3\u001b[0m     \u001b[0mprint\u001b[0m\u001b[1;33m(\u001b[0m\u001b[0mname\u001b[0m\u001b[1;33m,\u001b[0m \u001b[0mvalue\u001b[0m\u001b[1;33m)\u001b[0m\u001b[1;33m\u001b[0m\u001b[0m\n",
      "\u001b[1;31mNameError\u001b[0m: name 'model' is not defined"
     ]
    }
   ],
   "source": [
    "#Cek akurasi\n",
    "for name, value in zip(model.metrics_names, result):\n",
    "    print(name, value)"
   ]
  },
  {
   "cell_type": "code",
   "execution_count": 99,
   "metadata": {},
   "outputs": [],
   "source": [
    "import audioop\n",
    "import pyaudio\n",
    "\n",
    "class AudioFile:\n",
    "    \"\"\"\n",
    "    Untuk menggunakan object Audiofile gunakan\n",
    "    a = a.AudioFile('namafile.wav')\n",
    "    lalu gunakan\n",
    "    a.play\n",
    "    a.record\n",
    "    dan lain2\n",
    "    \n",
    "    \"\"\"\n",
    "    chunk = 320 #2048\n",
    "    FORMAT = pyaudio.paInt16\n",
    "    CHANNELS = 1\n",
    "    RATE = 16000\n",
    "    length_capture = 20  #20 ms\n",
    "    overlap_frame = 4    #4 ms\n",
    "    start_at = 7         #maybe not used\n",
    "    end_at = 100\n",
    "    DEBUG = False\n",
    "    sequence = 5\n",
    "\n",
    "    def __init__(self, file):\n",
    "        self.file = file\n",
    "\n",
    "    def play(self,filename=\"\"):\n",
    "        if filename==\"\": filename=self.file\n",
    "        self.wf = wave.open(filename, 'rb')\n",
    "\n",
    "        # instantiate PyAudio (1)\n",
    "        self.p = pyaudio.PyAudio()\n",
    "\n",
    "        # open stream (2)\n",
    "        self.stream = self.p.open(format=self.p.get_format_from_width(self.wf.getsampwidth()),\n",
    "                channels=self.wf.getnchannels(),\n",
    "                rate=self.wf.getframerate(),\n",
    "                output=True)\n",
    "\n",
    "        # read data\n",
    "        self.data = self.wf.readframes(self.chunk)\n",
    "\n",
    "        # play stream (3)\n",
    "        while len(self.data) > 0:\n",
    "            self.stream.write(self.data)\n",
    "            self.data = self.wf.readframes(self.chunk)\n",
    "\n",
    "        # stop stream (4)\n",
    "        self.stream.stop_stream()\n",
    "        self.stream.close()\n",
    "\n",
    "        # close PyAudio (5)\n",
    "        self.p.terminate()\n",
    "\n",
    "    def record(self, length=3, thres=0, filename=\"\"):\n",
    "        if filename==\"\": filename=self.file\n",
    "        \"\"\"Merekam length dalam detik, thres adalah sensitivitas mic\"\"\"\n",
    "        self.p = pyaudio.PyAudio()\n",
    " \n",
    "        # start Recording\n",
    "        self.stream = self.p.open(format=self.FORMAT, channels=self.CHANNELS,\n",
    "                rate=self.RATE, input=True,\n",
    "                frames_per_buffer=self.chunk)\n",
    "        \"\"\"record to file\"\"\"\n",
    "        self.frames = []\n",
    "        self.temp_frames = []\n",
    "        print(\"Recording\")\n",
    "        for i in range(0, int(self.RATE / self.chunk * length)):\n",
    "            \n",
    "            data = self.stream.read(self.chunk)\n",
    "            rms = audioop.rms(data,2)\n",
    "            if rms >= thres:\n",
    "                self.frames.append(data)\n",
    "           \n",
    "                \n",
    "        print(\"finished recording\")\n",
    " \n",
    "        # stop Recording\n",
    "        self.stream.stop_stream()\n",
    "        self.stream.close()\n",
    "        \n",
    "        \n",
    "        self.wf = wave.open(filename, 'wb')\n",
    "        self.wf.setnchannels(self.CHANNELS)\n",
    "        self.wf.setsampwidth(self.p.get_sample_size(self.FORMAT))\n",
    "        self.wf.setframerate(self.RATE)\n",
    "        self.wf.writeframes(b''.join(self.frames))\n",
    "        self.wf.close() \n",
    "        return b''.join(self.frames)\n",
    "        \n",
    "    def test(self, length=5):\n",
    "        \"\"\"Merekam length dalam detik, thres adalah sensitivitas mic\"\"\"\n",
    "        self.p = pyaudio.PyAudio()\n",
    " \n",
    "        # start Recording\n",
    "        self.stream = self.p.open(format=self.FORMAT, channels=self.CHANNELS,\n",
    "                rate=self.RATE, input=True,\n",
    "                frames_per_buffer=self.chunk)\n",
    "        \"\"\"record to file\"\"\"\n",
    "        self.frames = []\n",
    "        self.temp_frames = []\n",
    "        print(\"Mulai Recording\\n...  Bersiap diam\")\n",
    "        time.sleep(2)\n",
    "        print(\"Sekarang diam.\")\n",
    "        \n",
    "        self.rms_sepi = []\n",
    "        self.rms_bicara = []\n",
    "        for i in range(0, int(self.RATE / self.chunk * (length / 2))):\n",
    "            \n",
    "            data = self.stream.read(self.chunk)\n",
    "            rms = audioop.rms(data,2)\n",
    "            self.rms_sepi.append(rms)\n",
    "        \n",
    "        time.sleep(2)\n",
    "        print(\"\\nSekarang bicara sewajarnya\")\n",
    "        for i in range(0, int(self.RATE / self.chunk * (length / 2))):\n",
    "            \n",
    "            data = self.stream.read(self.chunk)\n",
    "            rms = audioop.rms(data,2)\n",
    "            self.rms_bicara.append(rms)\n",
    "\n",
    "        time.sleep(1)\n",
    "        \n",
    "        print(\"\\nmax Threshold Sepi:\", max(self.rms_sepi))\n",
    "        print(\"max Threshold Bicara:\", max(self.rms_bicara))\n",
    "                \n",
    "        print(\"Selesai merekam, gunakan nilai sedikit diatas Threshold sepi \")\n",
    " \n",
    "        self.stream.stop_stream()\n",
    "        self.stream.close()\n",
    "\n",
    "    def aufile(self):\n",
    "        return self.file\n",
    "    \n",
    "    def stream_pred(self, length=3, thres=600, frame=5):\n",
    "        self.p = pyaudio.PyAudio()\n",
    "\n",
    "\n",
    "        # start Recording\n",
    "        self.stream = self.p.open(format=self.FORMAT, channels=self.CHANNELS,\n",
    "                rate=self.RATE, input=True,\n",
    "                frames_per_buffer=self.chunk)\n",
    "        \"\"\"record to file\"\"\"\n",
    " \n",
    "        self.frames = []\n",
    "\n",
    "        print(\"Recording\")\n",
    "        \n",
    "        self.fl=0\n",
    "        self.aprd=[]\n",
    "        for i in range(0, int(self.RATE / self.chunk * length)):\n",
    "            self.fl += 1\n",
    "            self.prd=[]\n",
    "            for pr in range(sequence):\n",
    "                data = self.stream.read(self.chunk)\n",
    "                self.tmp = []\n",
    "                self.tmp.append(data)\n",
    "                print(self.tmp)\n",
    "                \n",
    "                #buat jadi max 1 float\n",
    "                \n",
    "                \n",
    "                \n",
    "                \n",
    "                D = librosa.amplitude_to_db(librosa.magphase(librosa.stft(self.tmp))[0])\n",
    "                self.prd.append([D])\n",
    "            self.aprd.append(np.array(self.prd))\n",
    "            y_pred = model3.predict(x=self.aprd)\n",
    "            print(y_pred)\n",
    "            self.aprd=[]\n",
    "\n",
    "                \n",
    "        print(\"finished recording\")\n",
    "        self.files=[]\n",
    "        return self.files\n",
    "\n",
    "    def seq_write(self, frames, no_seq):\n",
    "        self.fn = self.file.split('.wav')[0]\n",
    "        if self.DEBUG: print(self.fn)\n",
    "        self.fn = self.fn + str(no_seq)+'-f.wav'\n",
    "        self.wf = wave.open(self.fn, 'wb')\n",
    "        self.wf.setnchannels(self.CHANNELS)\n",
    "        self.wf.setsampwidth(self.p.get_sample_size(self.FORMAT))\n",
    "        self.wf.setframerate(self.RATE)\n",
    "        self.wf.writeframes(b''.join(self.frames))\n",
    "        self.wf.close()\n",
    "        print(\"recorded:\",self.fn)\n",
    "\n",
    "    def specs(self, filename=\"\", offset=0.0, duration=None, sr=22050):\n",
    "        if filename==\"\": filename=self.file\n",
    "        wv, sr = librosa.load(filename, offset=offset, duration=duration, sr=sr)\n",
    "        #sr, wv = read(filename)\n",
    "        #wv = wv.astype('float')\n",
    "        D = librosa.amplitude_to_db(librosa.magphase(librosa.stft(wv))[0])\n",
    "        librosa.display.specshow(D, y_axis='log')\n",
    "        plt.title(\"Power db - \"+ str(D.shape))\n",
    "        plt.colorbar()\n",
    "        \n"
   ]
  },
  {
   "cell_type": "code",
   "execution_count": 108,
   "metadata": {},
   "outputs": [
    {
     "data": {
      "text/html": [
       "\n",
       "                <audio controls=\"controls\" >\n",
       "                    <source src=\"data:audio/wav;base64,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\" type=\"audio/wav\" />\n",
       "                    Your browser does not support the audio element.\n",
       "                </audio>\n",
       "              "
      ],
      "text/plain": [
       "<IPython.lib.display.Audio object>"
      ]
     },
     "execution_count": 108,
     "metadata": {},
     "output_type": "execute_result"
    }
   ],
   "source": [
    "import IPython.display as ipd\n",
    "X = get_mfcc(\"mytest-16000.wav\")\n",
    "ipd.Audio(\"mytest-16000.wav\")"
   ]
  },
  {
   "cell_type": "code",
   "execution_count": 109,
   "metadata": {},
   "outputs": [
    {
     "data": {
      "text/plain": [
       "31"
      ]
     },
     "execution_count": 109,
     "metadata": {},
     "output_type": "execute_result"
    }
   ],
   "source": [
    "len(X)"
   ]
  },
  {
   "cell_type": "code",
   "execution_count": 122,
   "metadata": {},
   "outputs": [
    {
     "data": {
      "text/plain": [
       "(155, 5, 1025)"
      ]
     },
     "execution_count": 122,
     "metadata": {},
     "output_type": "execute_result"
    }
   ],
   "source": [
    "x_train=[]\n",
    "#for i in range(len(X)):\n",
    "#    lx = len(X)\n",
    "#    ld = len(X) // sequence\n",
    "#    ds = []\n",
    "#    for ll in range(ld-1):\n",
    "#        #print(ll)\n",
    "#        ds = X[ll:ll+sequence]\n",
    "#        ds = np.array(ds,dtype='float')\n",
    "#        \n",
    "#        #print(ds)\n",
    "#        try:\n",
    "#            x_train.append(np.array(ds).reshape(5,1025))\n",
    "#        except:\n",
    "#            pass\n",
    "\n",
    "\n",
    "for i in range(0,len(X),5):\n",
    "    ds=[]\n",
    "    ds = X[i:i+sequence]\n",
    "xx = np.array(x_train, dtype=float)\n",
    "xx.shape"
   ]
  },
  {
   "cell_type": "code",
   "execution_count": 123,
   "metadata": {},
   "outputs": [],
   "source": [
    "y_pred = model3.predict(x=xx)"
   ]
  },
  {
   "cell_type": "code",
   "execution_count": 124,
   "metadata": {},
   "outputs": [],
   "source": [
    "cl = np.argmax(y_pred, axis=1)"
   ]
  },
  {
   "cell_type": "code",
   "execution_count": 125,
   "metadata": {},
   "outputs": [
    {
     "data": {
      "text/plain": [
       "155"
      ]
     },
     "execution_count": 125,
     "metadata": {},
     "output_type": "execute_result"
    }
   ],
   "source": [
    "len(cl)"
   ]
  },
  {
   "cell_type": "code",
   "execution_count": 126,
   "metadata": {
    "scrolled": true
   },
   "outputs": [
    {
     "name": "stdout",
     "output_type": "stream",
     "text": [
      "ju\n",
      "nu\n",
      "mi\n",
      "nu\n",
      "nu\n",
      "ju\n",
      "nu\n",
      "mi\n",
      "nu\n",
      "nu\n",
      "ju\n",
      "nu\n",
      "mi\n",
      "nu\n",
      "nu\n",
      "ju\n",
      "nu\n",
      "mi\n",
      "nu\n",
      "nu\n",
      "ju\n",
      "nu\n",
      "mi\n",
      "nu\n",
      "nu\n",
      "ju\n",
      "nu\n",
      "mi\n",
      "nu\n",
      "nu\n",
      "ju\n",
      "nu\n",
      "mi\n",
      "nu\n",
      "nu\n",
      "ju\n",
      "nu\n",
      "mi\n",
      "nu\n",
      "nu\n",
      "ju\n",
      "nu\n",
      "mi\n",
      "nu\n",
      "nu\n",
      "ju\n",
      "nu\n",
      "mi\n",
      "nu\n",
      "nu\n",
      "ju\n",
      "nu\n",
      "mi\n",
      "nu\n",
      "nu\n",
      "ju\n",
      "nu\n",
      "mi\n",
      "nu\n",
      "nu\n",
      "ju\n",
      "nu\n",
      "mi\n",
      "nu\n",
      "nu\n",
      "ju\n",
      "nu\n",
      "mi\n",
      "nu\n",
      "nu\n",
      "ju\n",
      "nu\n",
      "mi\n",
      "nu\n",
      "nu\n",
      "ju\n",
      "nu\n",
      "mi\n",
      "nu\n",
      "nu\n",
      "ju\n",
      "nu\n",
      "mi\n",
      "nu\n",
      "nu\n",
      "ju\n",
      "nu\n",
      "mi\n",
      "nu\n",
      "nu\n",
      "ju\n",
      "nu\n",
      "mi\n",
      "nu\n",
      "nu\n",
      "ju\n",
      "nu\n",
      "mi\n",
      "nu\n",
      "nu\n",
      "ju\n",
      "nu\n",
      "mi\n",
      "nu\n",
      "nu\n",
      "ju\n",
      "nu\n",
      "mi\n",
      "nu\n",
      "nu\n",
      "ju\n",
      "nu\n",
      "mi\n",
      "nu\n",
      "nu\n",
      "ju\n",
      "nu\n",
      "mi\n",
      "nu\n",
      "nu\n",
      "ju\n",
      "nu\n",
      "mi\n",
      "nu\n",
      "nu\n",
      "ju\n",
      "nu\n",
      "mi\n",
      "nu\n",
      "nu\n",
      "ju\n",
      "nu\n",
      "mi\n",
      "nu\n",
      "nu\n",
      "ju\n",
      "nu\n",
      "mi\n",
      "nu\n",
      "nu\n",
      "ju\n",
      "nu\n",
      "mi\n",
      "nu\n",
      "nu\n",
      "ju\n",
      "nu\n",
      "mi\n",
      "nu\n",
      "nu\n",
      "ju\n",
      "nu\n",
      "mi\n",
      "nu\n",
      "nu\n"
     ]
    }
   ],
   "source": [
    "for t in range(len(cl)):\n",
    "    print(list(LABEL_TO_INDEX_MAP.keys())[cl[t]])"
   ]
  },
  {
   "cell_type": "code",
   "execution_count": null,
   "metadata": {},
   "outputs": [],
   "source": []
  },
  {
   "cell_type": "markdown",
   "metadata": {},
   "source": [
    "# TEST DISINI"
   ]
  },
  {
   "cell_type": "code",
   "execution_count": null,
   "metadata": {},
   "outputs": [],
   "source": [
    "a = np.array([1,3,4,5,6])"
   ]
  },
  {
   "cell_type": "code",
   "execution_count": null,
   "metadata": {},
   "outputs": [],
   "source": [
    "aaa=b'\\xc0\\x00\\xf0\\x01\\xaa\\x006\\x01\\x80\\x01\\xed\\x00\\x9f\\x01\\xcc\\x00\\xd6\\xff\\xd4\\x00\\xae\\x00\\x0b\\x00\\xb6\\x004\\x012\\x02\\x1b\\x028\\x01X\\x01\\xd7\\x01\\xd0\\x01\\xd7\\x01\\x7f\\x01}\\x01{\\x01\\xae\\x00\\xd5\\x00\\x93\\x00k\\x00\\x8c\\x00e\\x00y\\x00\\xbd\\x00\\x08\\x01\\xc5\\x00\\xbb\\x00\\xbd\\x00\\x16\\x01\\xa9\\x01\\x8a\\x01{\\x01\\xe2\\x01D\\x01\\x15\\x01.\\x01\\xf1\\x00#\\x01\\x17\\x01^\\x01B\\x01\\xca\\x00\\x9c\\x00\\x85\\x00a\\x00\\\\\\x00\\x96\\x00\\x8f\\x00\\x8b\\x00\\x87\\x00\\x9b\\x00\\x9f\\x00g\\x00\\x80\\x00\\xc7\\x00\\xec\\x00\\x13\\x01\\\\\\x01\\x87\\x01j\\x01\\x87\\x01\\xb9\\x01\\xa2\\x01\\xc8\\x01\\xd2\\x01\\xb3\\x01\\x7f\\x01K\\x01T\\x01^\\x01i\\x01\\x82\\x01\\xb0\\x01\\xc9\\x01\\xbe\\x01\\x9c\\x01I\\x013\\x01g\\x01\\xb4\\x01\\x12\\x02!\\x02+\\x02\\x87\\x02t\\x028\\x02n\\x02f\\x02w\\x02\\xe1\\x02\\xf3\\x02\\xe6\\x02\\xfe\\x02\\xd8\\x02\\x81\\x02F\\x02!\\x02\\x04\\x02M\\x02k\\x02D\\x02M\\x02.\\x02\\xe9\\x01\\xe8\\x01\\xfb\\x01\\x04\\x02H\\x02j\\x02M\\x024\\x02\\x15\\x02\\x11\\x02L\\x02\\x86\\x02\\x8b\\x02\\xac\\x02\\xb5\\x02\\x9e\\x02\\x8b\\x02Q\\x02?\\x02\\x1c\\x02\\xf9\\x01\\xbd\\x01\\x9f\\x01\\xd3\\x01\\xd3\\x01\\xd7\\x01\\xba\\x01\\xa5\\x01\\xa3\\x01\\xb6\\x01\\x9a\\x01\\x8e\\x01\\xc0\\x01\\xb4\\x01\\xa4\\x01y\\x01#\\x01\\xe7\\x00\\xfe\\x00\\xf8\\x00\\xfe\\x00,\\x01 \\x01\\x0f\\x01\\x16\\x012\\x016\\x01#\\x01\\x08\\x01W\\x01_\\x01\\x14\\x01\\r\\x01\\x11\\x01\"\\x01\\x04\\x01\\x08\\x01!\\x01\\x1e\\x01\\xf5\\x00\\xdf\\x00\\xc5\\x00\\xa5\\x00\\xbd\\x00\\xe7\\x00\\xc9\\x00\\x9a\\x00\\xe0\\x00\\x1e\\x01\\xd8\\x00\\xc2\\x00\\xd3\\x00\\xa3\\x00\\x87\\x00{\\x00\\xb0\\x00\\xd6\\x00\\xc8\\x00\\xda\\x00\\xdf\\x00\\xc2\\x00\\xaa\\x00\\xcd\\x00\\x06\\x01\\x04\\x01\\xf0\\x00\\r\\x01\\xf6\\x00\\xe4\\x00\\xdf\\x00\\x16\\x01G\\x01\\xf5\\x00\\xbc\\x00\\xee\\x00\\xf2\\x00\\xc9\\x00\\xfc\\x00\\x05\\x01\\xb5\\x00\\xa9\\x00\\x19\\x01\\x1c\\x01\\xd8\\x00\\xf2\\x00 \\x01\\x1a\\x01\\xbf\\x00\\xb6\\x00\\xf0\\x00\\xbe\\x00{\\x00~\\x00o\\x00v\\x00w\\x00\\x88\\x00q\\x00\\t\\x00P\\x00\\xa4\\x00t\\x00/\\x00!\\x00F\\x003\\x00$\\x00Q\\x00@\\x00\\xf9\\xff\\xfb\\xff\\x0b\\x00-\\x00o\\x00`\\x004\\x00_\\x00p\\x00v\\x00\\x85\\x00\\xa4\\x00\\x9e\\x00t\\x00\\x87\\x00y\\x00c\\x00\\xb4\\x00\\xea\\x00\\x97\\x00\\x97\\x00\\x83\\x00K\\x00\\x99\\x00\\xdd\\x00\\xb6\\x00\\x92\\x00\\xc3\\x00\\xb0\\x00\\xda\\x00\\x06\\x01\\xde\\x00\\xd5\\x00\\xc7\\x00\\xcc\\x00\\xfb\\x001\\x01\\x1d\\x01\\xf9\\x00\\x02\\x01\\xfe\\x00\\x12\\x018\\x01?\\x01\\x14\\x01\\x16\\x01\\x0e\\x01\\t\\x01 \\x01\\xb3\\x00\\x9d\\x00\\xc8\\x00\\xb3\\x00\\x9d\\x00\\xb9\\x00\\x8e\\x00P\\x00\\x86\\x00\\x8b\\x00Y\\x00M\\x00S\\x00N\\x00W\\x00U\\x00C\\x00e\\x00\\x8e\\x00-\\x00\\x0b\\x00a\\x00`\\x00C\\x00]\\x00Z\\x00\\x1a\\x00\\xf0\\xff\\x12\\x00/\\x00^\\x00'"
   ]
  },
  {
   "cell_type": "code",
   "execution_count": null,
   "metadata": {},
   "outputs": [],
   "source": [
    "import struct\n",
    "a = int.from_bytes(aaa,byteorder='little')"
   ]
  },
  {
   "cell_type": "code",
   "execution_count": null,
   "metadata": {},
   "outputs": [],
   "source": [
    "a"
   ]
  },
  {
   "cell_type": "code",
   "execution_count": null,
   "metadata": {},
   "outputs": [],
   "source": [
    "ff=b'\\xc0'"
   ]
  },
  {
   "cell_type": "code",
   "execution_count": null,
   "metadata": {},
   "outputs": [],
   "source": [
    "ff"
   ]
  },
  {
   "cell_type": "code",
   "execution_count": null,
   "metadata": {},
   "outputs": [],
   "source": [
    "ff"
   ]
  },
  {
   "cell_type": "code",
   "execution_count": null,
   "metadata": {},
   "outputs": [],
   "source": []
  }
 ],
 "metadata": {
  "anaconda-cloud": {},
  "kernelspec": {
   "display_name": "Python 3",
   "language": "python",
   "name": "python3"
  },
  "language_info": {
   "codemirror_mode": {
    "name": "ipython",
    "version": 3
   },
   "file_extension": ".py",
   "mimetype": "text/x-python",
   "name": "python",
   "nbconvert_exporter": "python",
   "pygments_lexer": "ipython3",
   "version": "3.6.4"
  }
 },
 "nbformat": 4,
 "nbformat_minor": 1
}
