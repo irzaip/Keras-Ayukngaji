{
 "cells": [
  {
   "cell_type": "code",
   "execution_count": 11,
   "metadata": {},
   "outputs": [],
   "source": [
    "import librosa\n",
    "import matplotlib.pyplot as plt\n",
    "import numpy as np\n",
    "import IPython.display as ipd\n",
    "import os\n",
    "import random\n",
    "import wave\n",
    "from array import array\n",
    "import soundfile as sf\n",
    "import sounddevice as sd\n",
    "import scipy.io.wavfile as ww\n",
    "from scipy.io.wavfile import read\n",
    "import glob"
   ]
  },
  {
   "cell_type": "code",
   "execution_count": 57,
   "metadata": {},
   "outputs": [],
   "source": [
    "PATH_NOISE= os.getcwd()+'/data/noise'\n",
    "WORD_TO_TRAIN = ['ba','ta','si','mi','nu','ju']\n",
    "PATH_TO_TRAIN = os.getcwd()+'/data/train'\n",
    "PATH_TO_TEST = os.getcwd()+'/data/test'\n",
    "FILE_PREFIX = \"ns\"\n",
    "WORKPATH = PATH_TO_TRAIN\n",
    "\n",
    "\n",
    "chunk = 2048\n",
    "CHANNELS = 1\n",
    "RATE = 16000\n",
    "length_capture = 20  #20 ms\n",
    "overlap_frame = 4    #4 ms\n",
    "start_at = 7         #maybe not used\n",
    "end_at = 100\n",
    "DEBUG = False"
   ]
  },
  {
   "cell_type": "code",
   "execution_count": 8,
   "metadata": {},
   "outputs": [],
   "source": [
    "def getlistwav(path, dir=\"\"):\n",
    "    if dir == \"\": dir = path + \"/\"\n",
    "    tmp = os.listdir(path)\n",
    "    result = []\n",
    "    for i in tmp:\n",
    "        if str(i).find('wav',0)>0: result.append(dir+i)\n",
    "    return result"
   ]
  },
  {
   "cell_type": "code",
   "execution_count": 72,
   "metadata": {},
   "outputs": [],
   "source": [
    "def writefile(filename, data):\n",
    "    p = pyaudio.PyAudio()\n",
    "    wf = wave.open(filename, 'wb')\n",
    "    wf.setnchannels(CHANNELS)\n",
    "    wf.setsampwidth(p.get_sample_size(FORMAT))\n",
    "    wf.setframerate(RATE)\n",
    "    wf.writeframes(data)\n",
    "    wf.close() \n",
    "\n",
    "def addblank(filename, front=0, back=0):\n",
    "    wv, sr = sf.read(filename)\n",
    "    wv=np.pad(wv,(front,back),'constant')\n",
    "    plt.plot(wv)\n",
    "    return wv\n",
    "\n",
    "def getlen(filename):\n",
    "    wv, sr = sf.read(filename)\n",
    "    print('Length:',len(wv))\n",
    "    return len(wv)\n",
    "\n",
    "def pitch(filename,target=None, n_steps=0.0):\n",
    "    wv,sr = sf.read(filename)\n",
    "    print(wv)\n",
    "    wv = wv.T\n",
    "    wv = librosa.resample(wv,sr,44100,scale=True)\n",
    "    y_ = librosa.effects.pitch_shift(wv, 44100, n_steps=n_steps)\n",
    "    y_ = librosa.resample(y_,44100,sr,scale=True)\n",
    "    print(y_)\n",
    "    sd.play(y_,samplerate=sr)\n",
    "    if target!=None: sf.write(target,y_,sr)\n",
    "\n",
    "def add_random_noise(filename, target):\n",
    "\n",
    "    #add some blanks front and back\n",
    "    front = random.randint(0,5000)\n",
    "    back = random.randint(0,5000)\n",
    "\n",
    "    wv, sr = sf.read(filename)\n",
    "    wv=np.pad(wv,(front,back),'constant')\n",
    "\n",
    "\n",
    "    #random pitch\n",
    "    ptch = random.uniform(-3,3)\n",
    "\n",
    "    wv = wv.T\n",
    "    wv = librosa.resample(wv,sr,44100,scale=True)\n",
    "    wv = librosa.effects.pitch_shift(wv, 44100, n_steps=ptch)\n",
    "    #y_ = librosa.resample(y_,44100,sr,scale=True)\n",
    "    #print(y_)\n",
    "\n",
    "    #get the noise\n",
    "    lnoise = getlistwav(PATH_NOISE, dir=\"\",)\n",
    "    random.shuffle(lnoise)\n",
    "    wv2, sr2 = sf.read(lnoise[0])\n",
    "    \n",
    "\n",
    "    wv2 = wv2.T\n",
    "    wv2 = librosa.resample(wv2,sr2,44100,scale=True)\n",
    "    \n",
    "    rv = random.randint(0,len(wv2)-len(wv))\n",
    "    wv2 = wv2[rv:rv+len(wv),]\n",
    "    #wv3 = ((wv * random.uniform(0.9,1.3)) + (wv2 * random.uniform(0,0.4))) / 2\n",
    "    wv3 = ( (wv * 3) + (wv2 * 2) ) / 6\n",
    "\n",
    "    wv3 = librosa.resample(wv3,44100,sr,scale=True)\n",
    "\n",
    "    #sd.play(wv3,samplerate=sr)\n",
    "    if target!=None: sf.write(target,wv3,sr)\n"
   ]
  },
  {
   "cell_type": "code",
   "execution_count": 73,
   "metadata": {},
   "outputs": [],
   "source": [
    "class Frame(object):\n",
    "    \"\"\"Represents a \"frame\" of audio data.\"\"\"\n",
    "    def __init__(self, bytes, timestamp, duration):\n",
    "        self.bytes = bytes\n",
    "        self.timestamp = timestamp\n",
    "        self.duration = duration\n",
    "\n",
    "def frame_generator(frame_duration_ms, audio, sample_rate):\n",
    "    \"\"\"Generates audio frames from PCM audio data.\n",
    "\n",
    "    Takes the desired frame duration in milliseconds, the PCM data, and\n",
    "    the sample rate.\n",
    "\n",
    "    Yields Frames of the requested duration.\n",
    "    \"\"\"\n",
    "    n = int(sample_rate * (frame_duration_ms / 1000.0) * 2)\n",
    "    offset = 0\n",
    "    timestamp = 0.0\n",
    "    duration = (float(n) / sample_rate) / 2.0\n",
    "    while offset + n < len(audio):\n",
    "        yield Frame(audio[offset:offset + n], timestamp, duration)\n",
    "        timestamp += duration\n",
    "        offset += n"
   ]
  },
  {
   "cell_type": "code",
   "execution_count": 71,
   "metadata": {},
   "outputs": [],
   "source": [
    "def gennoise(WORKPATH=WORKPATH,totalfile=1):\n",
    "    \"\"\" \n",
    "    Gunakan generate ini untuk membuat SET dari yang ingin di training atau\n",
    "    untuk SET TESTING, gunakan frame untuk menandakan panjang dari frame\n",
    "    yang ingin di deteksi\n",
    "    \"\"\"\n",
    "    files=[]\n",
    "    #Generate AUDIO FILE\n",
    "\n",
    "    #create the dir \n",
    "    for i in WORD_TO_TRAIN:\n",
    "        try:\n",
    "            os.mkdir(PATH_TO_TRAIN+\"/\"+i)\n",
    "            os.mkdir(PATH_TO_TEST+\"/\"+i)\n",
    "        except:\n",
    "            pass\n",
    "        \n",
    "    \n",
    "    for i in WORD_TO_TRAIN:\n",
    "        #gunakan PATH_TO_TEST atau PATH_TO_TRAIN\n",
    "        workdir = WORKPATH+\"\\\\\"+i+\"\\\\\"\n",
    "        filestonoise = glob.glob(workdir+\"*.wav\")\n",
    "        for tn in range(totalfile):\n",
    "            for f in filestonoise:\n",
    "                rann = str(random.randint(0,5000))\n",
    "                t_file=f.split('.wav')[0]+'-'+FILE_PREFIX+\"-\"+rann+\".wav\"\n",
    "                \n",
    "                add_random_noise(f,t_file)\n",
    "                print(t_file)\n",
    "    \n",
    "            print(\"Selesai proses merekam ke:\",workdir)\n",
    "    return files\n"
   ]
  },
  {
   "cell_type": "code",
   "execution_count": 70,
   "metadata": {},
   "outputs": [
    {
     "name": "stdout",
     "output_type": "stream",
     "text": [
      "16000\n",
      "E:\\data\\python\\3.6\\Keras-Ayukngaji/data/train\\ba\\ba-irza-2741-ns-2404.wav\n",
      "16000\n",
      "E:\\data\\python\\3.6\\Keras-Ayukngaji/data/train\\ba\\ba-irza-3058-ns-971.wav\n",
      "16000\n",
      "E:\\data\\python\\3.6\\Keras-Ayukngaji/data/train\\ba\\ba-irza-3854-ns-538.wav\n",
      "16000\n",
      "E:\\data\\python\\3.6\\Keras-Ayukngaji/data/train\\ba\\ba-irza-4191-ns-2602.wav\n",
      "16000\n",
      "E:\\data\\python\\3.6\\Keras-Ayukngaji/data/train\\ba\\ba-irza-678-ns-396.wav\n",
      "Selesai proses merekam ke: E:\\data\\python\\3.6\\Keras-Ayukngaji/data/train\\ba\\\n",
      "16000\n",
      "E:\\data\\python\\3.6\\Keras-Ayukngaji/data/train\\ba\\ba-irza-2741-ns-4811.wav\n",
      "16000\n",
      "E:\\data\\python\\3.6\\Keras-Ayukngaji/data/train\\ba\\ba-irza-3058-ns-2065.wav\n",
      "16000\n",
      "E:\\data\\python\\3.6\\Keras-Ayukngaji/data/train\\ba\\ba-irza-3854-ns-564.wav\n",
      "16000\n",
      "E:\\data\\python\\3.6\\Keras-Ayukngaji/data/train\\ba\\ba-irza-4191-ns-2126.wav\n",
      "16000\n",
      "E:\\data\\python\\3.6\\Keras-Ayukngaji/data/train\\ba\\ba-irza-678-ns-834.wav\n",
      "Selesai proses merekam ke: E:\\data\\python\\3.6\\Keras-Ayukngaji/data/train\\ba\\\n",
      "16000\n",
      "E:\\data\\python\\3.6\\Keras-Ayukngaji/data/train\\ta\\ta-irza-2741-ns-3191.wav\n",
      "16000\n",
      "E:\\data\\python\\3.6\\Keras-Ayukngaji/data/train\\ta\\ta-irza-3058-ns-1306.wav\n",
      "16000\n",
      "E:\\data\\python\\3.6\\Keras-Ayukngaji/data/train\\ta\\ta-irza-3854-ns-1515.wav\n",
      "16000\n",
      "E:\\data\\python\\3.6\\Keras-Ayukngaji/data/train\\ta\\ta-irza-4191-ns-1850.wav\n",
      "16000\n",
      "E:\\data\\python\\3.6\\Keras-Ayukngaji/data/train\\ta\\ta-irza-678-ns-2564.wav\n",
      "Selesai proses merekam ke: E:\\data\\python\\3.6\\Keras-Ayukngaji/data/train\\ta\\\n",
      "16000\n",
      "E:\\data\\python\\3.6\\Keras-Ayukngaji/data/train\\ta\\ta-irza-2741-ns-3883.wav\n",
      "16000\n",
      "E:\\data\\python\\3.6\\Keras-Ayukngaji/data/train\\ta\\ta-irza-3058-ns-550.wav\n",
      "16000\n",
      "E:\\data\\python\\3.6\\Keras-Ayukngaji/data/train\\ta\\ta-irza-3854-ns-3736.wav\n",
      "16000\n",
      "E:\\data\\python\\3.6\\Keras-Ayukngaji/data/train\\ta\\ta-irza-4191-ns-4270.wav\n",
      "16000\n",
      "E:\\data\\python\\3.6\\Keras-Ayukngaji/data/train\\ta\\ta-irza-678-ns-4031.wav\n",
      "Selesai proses merekam ke: E:\\data\\python\\3.6\\Keras-Ayukngaji/data/train\\ta\\\n",
      "16000\n",
      "E:\\data\\python\\3.6\\Keras-Ayukngaji/data/train\\si\\si-irza-2741-ns-4943.wav\n",
      "16000\n",
      "E:\\data\\python\\3.6\\Keras-Ayukngaji/data/train\\si\\si-irza-3058-ns-186.wav\n",
      "16000\n",
      "E:\\data\\python\\3.6\\Keras-Ayukngaji/data/train\\si\\si-irza-3854-ns-2030.wav\n",
      "16000\n",
      "E:\\data\\python\\3.6\\Keras-Ayukngaji/data/train\\si\\si-irza-4191-ns-600.wav\n",
      "16000\n",
      "E:\\data\\python\\3.6\\Keras-Ayukngaji/data/train\\si\\si-irza-678-ns-2243.wav\n",
      "Selesai proses merekam ke: E:\\data\\python\\3.6\\Keras-Ayukngaji/data/train\\si\\\n",
      "16000\n",
      "E:\\data\\python\\3.6\\Keras-Ayukngaji/data/train\\si\\si-irza-2741-ns-2029.wav\n",
      "16000\n",
      "E:\\data\\python\\3.6\\Keras-Ayukngaji/data/train\\si\\si-irza-3058-ns-4729.wav\n",
      "16000\n",
      "E:\\data\\python\\3.6\\Keras-Ayukngaji/data/train\\si\\si-irza-3854-ns-4097.wav\n",
      "16000\n",
      "E:\\data\\python\\3.6\\Keras-Ayukngaji/data/train\\si\\si-irza-4191-ns-2194.wav\n",
      "16000\n",
      "E:\\data\\python\\3.6\\Keras-Ayukngaji/data/train\\si\\si-irza-678-ns-590.wav\n",
      "Selesai proses merekam ke: E:\\data\\python\\3.6\\Keras-Ayukngaji/data/train\\si\\\n",
      "16000\n",
      "E:\\data\\python\\3.6\\Keras-Ayukngaji/data/train\\mi\\mi-irza-2741-ns-1077.wav\n",
      "16000\n",
      "E:\\data\\python\\3.6\\Keras-Ayukngaji/data/train\\mi\\mi-irza-3058-ns-972.wav\n",
      "16000\n",
      "E:\\data\\python\\3.6\\Keras-Ayukngaji/data/train\\mi\\mi-irza-3854-ns-1073.wav\n",
      "16000\n",
      "E:\\data\\python\\3.6\\Keras-Ayukngaji/data/train\\mi\\mi-irza-4191-ns-2656.wav\n",
      "16000\n",
      "E:\\data\\python\\3.6\\Keras-Ayukngaji/data/train\\mi\\mi-irza-678-ns-3447.wav\n",
      "Selesai proses merekam ke: E:\\data\\python\\3.6\\Keras-Ayukngaji/data/train\\mi\\\n",
      "16000\n",
      "E:\\data\\python\\3.6\\Keras-Ayukngaji/data/train\\mi\\mi-irza-2741-ns-58.wav\n",
      "16000\n",
      "E:\\data\\python\\3.6\\Keras-Ayukngaji/data/train\\mi\\mi-irza-3058-ns-3562.wav\n",
      "16000\n",
      "E:\\data\\python\\3.6\\Keras-Ayukngaji/data/train\\mi\\mi-irza-3854-ns-2756.wav\n",
      "16000\n",
      "E:\\data\\python\\3.6\\Keras-Ayukngaji/data/train\\mi\\mi-irza-4191-ns-734.wav\n",
      "16000\n",
      "E:\\data\\python\\3.6\\Keras-Ayukngaji/data/train\\mi\\mi-irza-678-ns-3534.wav\n",
      "Selesai proses merekam ke: E:\\data\\python\\3.6\\Keras-Ayukngaji/data/train\\mi\\\n",
      "16000\n",
      "E:\\data\\python\\3.6\\Keras-Ayukngaji/data/train\\nu\\nu-irza-2741-ns-3427.wav\n",
      "16000\n",
      "E:\\data\\python\\3.6\\Keras-Ayukngaji/data/train\\nu\\nu-irza-3058-ns-3773.wav\n",
      "16000\n",
      "E:\\data\\python\\3.6\\Keras-Ayukngaji/data/train\\nu\\nu-irza-3854-ns-3269.wav\n",
      "16000\n",
      "E:\\data\\python\\3.6\\Keras-Ayukngaji/data/train\\nu\\nu-irza-4191-ns-521.wav\n",
      "16000\n",
      "E:\\data\\python\\3.6\\Keras-Ayukngaji/data/train\\nu\\nu-irza-678-ns-533.wav\n",
      "Selesai proses merekam ke: E:\\data\\python\\3.6\\Keras-Ayukngaji/data/train\\nu\\\n",
      "16000\n",
      "E:\\data\\python\\3.6\\Keras-Ayukngaji/data/train\\nu\\nu-irza-2741-ns-3475.wav\n",
      "16000\n",
      "E:\\data\\python\\3.6\\Keras-Ayukngaji/data/train\\nu\\nu-irza-3058-ns-1707.wav\n",
      "16000\n",
      "E:\\data\\python\\3.6\\Keras-Ayukngaji/data/train\\nu\\nu-irza-3854-ns-963.wav\n",
      "16000\n",
      "E:\\data\\python\\3.6\\Keras-Ayukngaji/data/train\\nu\\nu-irza-4191-ns-1579.wav\n",
      "16000\n",
      "E:\\data\\python\\3.6\\Keras-Ayukngaji/data/train\\nu\\nu-irza-678-ns-3430.wav\n",
      "Selesai proses merekam ke: E:\\data\\python\\3.6\\Keras-Ayukngaji/data/train\\nu\\\n",
      "16000\n",
      "E:\\data\\python\\3.6\\Keras-Ayukngaji/data/train\\ju\\ju-irza-2741-ns-4293.wav\n",
      "16000\n",
      "E:\\data\\python\\3.6\\Keras-Ayukngaji/data/train\\ju\\ju-irza-3058-ns-12.wav\n",
      "16000\n",
      "E:\\data\\python\\3.6\\Keras-Ayukngaji/data/train\\ju\\ju-irza-3854-ns-3271.wav\n",
      "16000\n",
      "E:\\data\\python\\3.6\\Keras-Ayukngaji/data/train\\ju\\ju-irza-4191-ns-1699.wav\n",
      "16000\n",
      "E:\\data\\python\\3.6\\Keras-Ayukngaji/data/train\\ju\\ju-irza-678-ns-2531.wav\n",
      "Selesai proses merekam ke: E:\\data\\python\\3.6\\Keras-Ayukngaji/data/train\\ju\\\n",
      "16000\n",
      "E:\\data\\python\\3.6\\Keras-Ayukngaji/data/train\\ju\\ju-irza-2741-ns-1879.wav\n",
      "16000\n",
      "E:\\data\\python\\3.6\\Keras-Ayukngaji/data/train\\ju\\ju-irza-3058-ns-1590.wav\n",
      "16000\n",
      "E:\\data\\python\\3.6\\Keras-Ayukngaji/data/train\\ju\\ju-irza-3854-ns-3836.wav\n",
      "16000\n",
      "E:\\data\\python\\3.6\\Keras-Ayukngaji/data/train\\ju\\ju-irza-4191-ns-1897.wav\n",
      "16000\n",
      "E:\\data\\python\\3.6\\Keras-Ayukngaji/data/train\\ju\\ju-irza-678-ns-2548.wav\n",
      "Selesai proses merekam ke: E:\\data\\python\\3.6\\Keras-Ayukngaji/data/train\\ju\\\n"
     ]
    },
    {
     "data": {
      "text/plain": [
       "[]"
      ]
     },
     "execution_count": 70,
     "metadata": {},
     "output_type": "execute_result"
    }
   ],
   "source": [
    "gennoise(WORKPATH,totalfile=2)"
   ]
  },
  {
   "cell_type": "code",
   "execution_count": 59,
   "metadata": {},
   "outputs": [],
   "source": [
    "import webrtcvad as wrt\n",
    "a = wrt.Vad()\n",
    "fg = frame_generator(20,wv,16000)\n",
    "\n",
    "fg = list(fg)\n",
    "\n",
    "lb = []\n",
    "for ff in fg:\n",
    "    lb.append(a.is_speech(ff.bytes,16000))\n"
   ]
  },
  {
   "cell_type": "code",
   "execution_count": 63,
   "metadata": {},
   "outputs": [
    {
     "data": {
      "text/plain": [
       "640"
      ]
     },
     "execution_count": 63,
     "metadata": {},
     "output_type": "execute_result"
    }
   ],
   "source": [
    "len(fg[1].bytes)"
   ]
  },
  {
   "cell_type": "code",
   "execution_count": 54,
   "metadata": {
    "scrolled": true
   },
   "outputs": [
    {
     "data": {
      "text/html": [
       "\n",
       "                <audio controls=\"controls\" >\n",
       "                    <source src=\"data:audio/x-wav;base64,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\" type=\"audio/x-wav\" />\n",
       "                    Your browser does not support the audio element.\n",
       "                </audio>\n",
       "              "
      ],
      "text/plain": [
       "<IPython.lib.display.Audio object>"
      ]
     },
     "execution_count": 54,
     "metadata": {},
     "output_type": "execute_result"
    }
   ],
   "source": [
    "ipd.Audio(\"record.wav\")"
   ]
  },
  {
   "cell_type": "code",
   "execution_count": 17,
   "metadata": {},
   "outputs": [
    {
     "name": "stdout",
     "output_type": "stream",
     "text": [
      "11101111111111+(0.12)111111111001110000000000-(1.1400000000000008) Writing chunk-00.wav\r\n",
      "00000000\r\n"
     ]
    }
   ],
   "source": [
    "!python example.py 3 \"record.wav\""
   ]
  },
  {
   "cell_type": "code",
   "execution_count": 10,
   "metadata": {},
   "outputs": [
    {
     "name": "stdout",
     "output_type": "stream",
     "text": [
      "16000\n"
     ]
    }
   ],
   "source": [
    "add_random_noise(\"chunk-00.wav\", \"record.wav\")"
   ]
  },
  {
   "cell_type": "code",
   "execution_count": 40,
   "metadata": {},
   "outputs": [],
   "source": [
    "import webrtcvad as wtc\n",
    "a = wtc.Vad()\n",
    "wv, sr = sf.read('record.wav')"
   ]
  },
  {
   "cell_type": "code",
   "execution_count": 41,
   "metadata": {},
   "outputs": [],
   "source": [
    "a.is_speech"
   ]
  },
  {
   "cell_type": "code",
   "execution_count": 18,
   "metadata": {},
   "outputs": [
    {
     "name": "stdout",
     "output_type": "stream",
     "text": [
      "16000\n",
      "16000\n",
      "16000\n",
      "16000\n",
      "16000\n",
      "16000\n",
      "16000\n",
      "16000\n",
      "16000\n",
      "16000\n"
     ]
    }
   ],
   "source": [
    "for i in range(10):\n",
    "    add_random_noise('mytest-16000.wav','mi.wav')"
   ]
  },
  {
   "cell_type": "code",
   "execution_count": null,
   "metadata": {},
   "outputs": [],
   "source": []
  },
  {
   "cell_type": "code",
   "execution_count": 5,
   "metadata": {},
   "outputs": [
    {
     "ename": "NameError",
     "evalue": "name 'add_random_noise' is not defined",
     "output_type": "error",
     "traceback": [
      "\u001b[0;31m---------------------------------------------------------------------------\u001b[0m",
      "\u001b[0;31mNameError\u001b[0m                                 Traceback (most recent call last)",
      "\u001b[0;32m<ipython-input-5-0d116a832a16>\u001b[0m in \u001b[0;36m<module>\u001b[0;34m()\u001b[0m\n\u001b[0;32m----> 1\u001b[0;31m \u001b[0madd_random_noise\u001b[0m\u001b[0;34m(\u001b[0m\u001b[0;34m'record.wav'\u001b[0m\u001b[0;34m,\u001b[0m\u001b[0;34m'jack.wav'\u001b[0m\u001b[0;34m)\u001b[0m\u001b[0;34m\u001b[0m\u001b[0m\n\u001b[0m",
      "\u001b[0;31mNameError\u001b[0m: name 'add_random_noise' is not defined"
     ]
    }
   ],
   "source": [
    "add_random_noise('record.wav','jack.wav')"
   ]
  },
  {
   "cell_type": "code",
   "execution_count": null,
   "metadata": {},
   "outputs": [],
   "source": []
  }
 ],
 "metadata": {
  "kernelspec": {
   "display_name": "Python 3",
   "language": "python",
   "name": "python3"
  },
  "language_info": {
   "codemirror_mode": {
    "name": "ipython",
    "version": 3
   },
   "file_extension": ".py",
   "mimetype": "text/x-python",
   "name": "python",
   "nbconvert_exporter": "python",
   "pygments_lexer": "ipython3",
   "version": "3.6.4"
  }
 },
 "nbformat": 4,
 "nbformat_minor": 2
}
