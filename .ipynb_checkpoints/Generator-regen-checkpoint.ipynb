{
 "cells": [
  {
   "cell_type": "code",
   "execution_count": 13,
   "metadata": {},
   "outputs": [],
   "source": [
    "#!/usr/bin/env python3\n",
    "\"\"\"Show a text-mode spectrogram using live microphone data.\"\"\"\n",
    "import argparse\n",
    "import logging\n",
    "import numpy as np\n",
    "import time\n",
    "import soundfile\n",
    "import itertools\n",
    "import IPython.display as ipd\n",
    "import matplotlib.pyplot as plt\n",
    "import os\n",
    "import random\n",
    "import sounddevice as sd"
   ]
  },
  {
   "cell_type": "code",
   "execution_count": 14,
   "metadata": {},
   "outputs": [],
   "source": [
    "DURATION=20\n",
    "gain=10\n",
    "range=[100,2000]\n",
    "high=2000\n",
    "low=100"
   ]
  },
  {
   "cell_type": "code",
   "execution_count": 15,
   "metadata": {},
   "outputs": [],
   "source": [
    "WORD_TO_TRAIN = ['ba','ta','si','mi','nu','ju']\n",
    "PATH_TO_TRAIN = os.getcwd()+'/data/train'\n",
    "PATH_TO_TEST = os.getcwd()+'/data/test'\n",
    "FILE_PREFIX = \"irza\"\n",
    "WORKPATH = PATH_TO_TRAIN"
   ]
  },
  {
   "cell_type": "code",
   "execution_count": 16,
   "metadata": {},
   "outputs": [],
   "source": [
    "magnitudo=[]\n",
    "audiodata=[]\n",
    "\n",
    "def record(length=1, filename=None, thres=0):\n",
    "    global cumulated_status\n",
    "    try:\n",
    "        import sounddevice as sd\n",
    "\n",
    "        #samplerate = sd.query_devices(args.device, 'input')['default_samplerate']\n",
    "        samplerate = 16000.0\n",
    "\n",
    "        delta_f = (high - low) / (80 - 1)\n",
    "        fftsize = np.ceil(samplerate / delta_f).astype(int)\n",
    "        low_bin = int(np.floor(low / delta_f))\n",
    "\n",
    "        cumulated_status = sd.CallbackFlags()\n",
    "\n",
    "        def callback(indata, frames, time, status):\n",
    "            global cumulated_status\n",
    "            cumulated_status |= status\n",
    "            if any(indata):\n",
    "                magnitude = np.abs(np.fft.rfft(indata[:, 0], n=fftsize))\n",
    "                magnitude *= gain / fftsize\n",
    "                audiodata.extend(itertools.chain(indata.tolist()))\n",
    "                magnitudo.append(magnitude)\n",
    "                #line = (gradient[int(np.clip(x, 0, 1) * (len(gradient) - 1))]\n",
    "                #        for x in magnitude[low_bin:low_bin + 80])\n",
    "                #print('.')\n",
    "                #print(*line, sep='', end='\\x1b[0m\\n', flush=True)\n",
    "            else:\n",
    "                #print('no input', flush=True)\n",
    "                pass\n",
    "\n",
    "        with sd.InputStream(device=None, channels=1, callback=callback,\n",
    "                            blocksize=int(samplerate * DURATION / 1000),\n",
    "                            samplerate=samplerate):\n",
    "            while True:\n",
    "                #response = input()\n",
    "                #if response in ('', 'q', 'Q'):\n",
    "                time.sleep(length)\n",
    "                break\n",
    "            if filename!=None: soundfile.write(filename,audiodata,16000)\n",
    "\n",
    "        if cumulated_status:\n",
    "            logging.warning(str(cumulated_status))\n",
    "    except Exception as e:\n",
    "        print(e)\n",
    "        \n",
    "def auplot(data=None):\n",
    "    if data==None: data = audiodata\n",
    "    plt.plot(np.array(data))\n",
    "\n",
    "def generate(WORKPATH=WORKPATH,style=\"FULL\", frame=5):\n",
    "    \"\"\" \n",
    "    Gunakan generate ini untuk membuat SET dari yang ingin di training atau\n",
    "    untuk SET TESTING, gunakan frame untuk menandakan panjang dari frame\n",
    "    yang ingin di deteksi\n",
    "    \"\"\"\n",
    "    files=[]\n",
    "    #Generate AUDIO FILE\n",
    "\n",
    "    #create the dir \n",
    "    for i in WORD_TO_TRAIN:\n",
    "        try:\n",
    "            os.mkdir(PATH_TO_TRAIN+\"/\"+i)\n",
    "            os.mkdir(PATH_TO_TEST+\"/\"+i)\n",
    "        except:\n",
    "            pass\n",
    "    \n",
    "    rann = str(random.randint(0,5000))\n",
    "    print(\"Sequence:\",rann)\n",
    "\n",
    "    #use this for shuffle the word\n",
    "    random.shuffle(WORD_TO_TRAIN)\n",
    "\n",
    "    for i in WORD_TO_TRAIN:\n",
    "        #gunakan PATH_TO_TEST atau PATH_TO_TRAIN\n",
    "        file = WORKPATH+\"/\"+i+\"/\"+i+\"-\"+FILE_PREFIX+\"-\"+rann+\".wav\"\n",
    "        \n",
    "        print(\"\\nSilahkan baca kalau sudah recording :\",i)\n",
    "        record(3,filename=file)\n",
    "        files.append(file)\n",
    "    \n",
    "    print(\"Selesai proses merekam ke:\",WORKPATH)\n",
    "    return files\n",
    "\n",
    "def del_small_file(minsize=40000):\n",
    "    for i in WORD_TO_TRAIN:\n",
    "        f = WORKPATH+\"/\"+i\n",
    "        print(f)\n",
    "        lst = os.listdir(f)\n",
    "        for s in lst:\n",
    "            fl = str(f+'/'+s)\n",
    "            sz = os.path.getsize(fl)\n",
    "            if sz<minsize:\n",
    "                os.remove(fl)\n",
    "                print(fl,sz)  "
   ]
  },
  {
   "cell_type": "code",
   "execution_count": 18,
   "metadata": {},
   "outputs": [
    {
     "name": "stdout",
     "output_type": "stream",
     "text": [
      "Sequence: 678\n",
      "\n",
      "Silahkan baca kalau sudah recording : si\n",
      "\n",
      "Silahkan baca kalau sudah recording : nu\n",
      "\n",
      "Silahkan baca kalau sudah recording : ta\n",
      "\n",
      "Silahkan baca kalau sudah recording : ju\n",
      "\n",
      "Silahkan baca kalau sudah recording : mi\n",
      "\n",
      "Silahkan baca kalau sudah recording : ba\n",
      "Selesai proses merekam ke: E:\\data\\python\\3.6\\Keras-Ayukngaji/data/train\n"
     ]
    }
   ],
   "source": [
    "files=generate()"
   ]
  },
  {
   "cell_type": "code",
   "execution_count": 12,
   "metadata": {},
   "outputs": [],
   "source": [
    "for i in files:\n",
    "    wv, ar = soundfile.read(i)\n",
    "    sd.play(wv,samplerate=16000)\n",
    "    "
   ]
  },
  {
   "cell_type": "code",
   "execution_count": null,
   "metadata": {},
   "outputs": [],
   "source": []
  }
 ],
 "metadata": {
  "kernelspec": {
   "display_name": "Python 3",
   "language": "python",
   "name": "python3"
  },
  "language_info": {
   "codemirror_mode": {
    "name": "ipython",
    "version": 3
   },
   "file_extension": ".py",
   "mimetype": "text/x-python",
   "name": "python",
   "nbconvert_exporter": "python",
   "pygments_lexer": "ipython3",
   "version": "3.6.4"
  }
 },
 "nbformat": 4,
 "nbformat_minor": 2
}
