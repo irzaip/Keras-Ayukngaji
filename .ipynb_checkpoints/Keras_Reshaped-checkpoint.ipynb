{
 "cells": [
  {
   "cell_type": "markdown",
   "metadata": {},
   "source": [
    "# TRAIN KERAS MODEL - Ayukngaji "
   ]
  },
  {
   "cell_type": "code",
   "execution_count": 2,
   "metadata": {},
   "outputs": [],
   "source": [
    "%matplotlib inline\n",
    "import matplotlib.pyplot as plt\n",
    "import tensorflow as tf\n",
    "import numpy as np\n",
    "import math\n",
    "import os\n",
    "import random\n",
    "from tensorflow.python.platform import gfile\n",
    "import librosa\n",
    "\n",
    "#for removing future warnings\n",
    "import warnings\n",
    "warnings.filterwarnings('ignore')"
   ]
  },
  {
   "cell_type": "markdown",
   "metadata": {},
   "source": [
    "Note: import keras seperti ini."
   ]
  },
  {
   "cell_type": "code",
   "execution_count": 123,
   "metadata": {},
   "outputs": [],
   "source": [
    "# from tf.keras.models import Sequential  # Tidak bisa!\n",
    "from tensorflow.python.keras.models import Sequential\n",
    "from tensorflow.python.keras.layers import InputLayer, Input\n",
    "from tensorflow.python.keras.layers import Reshape, MaxPooling2D\n",
    "from tensorflow.python.keras.layers import Conv2D, Dense, Flatten"
   ]
  },
  {
   "cell_type": "markdown",
   "metadata": {},
   "source": [
    "This was developed using Python 3.6 (Anaconda) and TensorFlow version:"
   ]
  },
  {
   "cell_type": "code",
   "execution_count": 124,
   "metadata": {
    "scrolled": true
   },
   "outputs": [
    {
     "data": {
      "text/plain": [
       "'1.6.0'"
      ]
     },
     "execution_count": 124,
     "metadata": {},
     "output_type": "execute_result"
    }
   ],
   "source": [
    "tf.__version__"
   ]
  },
  {
   "cell_type": "code",
   "execution_count": 125,
   "metadata": {},
   "outputs": [
    {
     "data": {
      "text/plain": [
       "'2.1.3-tf'"
      ]
     },
     "execution_count": 125,
     "metadata": {},
     "output_type": "execute_result"
    }
   ],
   "source": [
    "tf.keras.__version__"
   ]
  },
  {
   "cell_type": "markdown",
   "metadata": {},
   "source": [
    "## Manual load Spectogram\n",
    "\n",
    "Berikut tools untuk load batch"
   ]
  },
  {
   "cell_type": "code",
   "execution_count": 126,
   "metadata": {},
   "outputs": [],
   "source": [
    "\"\"\"\n",
    "DAAATASET\n",
    "\"\"\"\n",
    "DEBUG = False\n",
    "PATH_TRAIN = os.getcwd()+'/data/train'\n",
    "PATH_TEST = os.getcwd()+'/data/test'\n",
    "LOGDIR = 'log/'\n",
    "TEST_LOGDIR = 'log_test/'\n",
    "LABEL_TO_INDEX_MAP = {}\n",
    "WIDTH = 44\n",
    "HEIGHT = 25\n",
    "NUM_LABELS = 0\n",
    "BATCHRUN = 500\n",
    "EPOCHS = 5"
   ]
  },
  {
   "cell_type": "code",
   "execution_count": 127,
   "metadata": {},
   "outputs": [],
   "source": [
    "def init(path):\n",
    "    labels = os.listdir(path)\n",
    "    index = 0\n",
    "    for label in labels:\n",
    "        LABEL_TO_INDEX_MAP[label] = index\n",
    "        index += 1\n",
    "        \n",
    "    global NUM_LABELS\n",
    "    NUM_LABELS = len(LABEL_TO_INDEX_MAP)\n",
    "    print(LABEL_TO_INDEX_MAP)"
   ]
  },
  {
   "cell_type": "code",
   "execution_count": 128,
   "metadata": {},
   "outputs": [],
   "source": [
    "def one_hot_encoding(label):\n",
    "    encoding = [0] * len(LABEL_TO_INDEX_MAP)\n",
    "    encoding[LABEL_TO_INDEX_MAP[label]] = 1\n",
    "    return encoding"
   ]
  },
  {
   "cell_type": "code",
   "execution_count": 129,
   "metadata": {},
   "outputs": [],
   "source": [
    "def get_mfcc(wave_path, PAD_WIDTH=WIDTH):\n",
    "    if DEBUG:\n",
    "        print(wave_path)\n",
    "    wave, sr = librosa.load(wave_path, mono=True, duration=0.7)\n",
    "    mfccs = librosa.feature.mfcc(y=wave, sr=sr, n_mfcc=HEIGHT)\n",
    "    mfccs = np.pad(mfccs,((0,0), (0, PAD_WIDTH - len(mfccs[0]))), mode='constant')\n",
    "    return mfccs"
   ]
  },
  {
   "cell_type": "code",
   "execution_count": 130,
   "metadata": {},
   "outputs": [],
   "source": [
    "def get_batch(batch_size, path):\n",
    "    X = []\n",
    "    Y = []\n",
    "    random.seed(5896)\n",
    "    path = os.path.join(path,'*', '*.wav')\n",
    "    waves = gfile.Glob(path)\n",
    "    while True:\n",
    "        random.shuffle(waves)\n",
    "        for wave_path in waves:\n",
    "            _,label = os.path.split(os.path.dirname(wave_path))\n",
    "            X.append(get_mfcc(wave_path))\n",
    "            Y.append(one_hot_encoding(label))\n",
    "\n",
    "            if (len(X) == batch_size):\n",
    "                yield X, Y\n",
    "                X = []\n",
    "                Y = []"
   ]
  },
  {
   "cell_type": "code",
   "execution_count": null,
   "metadata": {},
   "outputs": [],
   "source": []
  },
  {
   "cell_type": "code",
   "execution_count": 131,
   "metadata": {},
   "outputs": [],
   "source": [
    "def my_plot(data, title=\"\"):\n",
    "    H = data\n",
    "    fig = plt.figure(figsize=(2, 2))\n",
    "\n",
    "    ax = fig.add_subplot(111)\n",
    "    ax.set_title(title)\n",
    "    plt.imshow(H)\n",
    "    ax.set_aspect('equal')\n",
    "\n",
    "    #cax = fig.add_axes([0.12, 0.1, 0.78, 0.8])\n",
    "    cax.get_xaxis().set_visible(False)\n",
    "    cax.get_yaxis().set_visible(False)\n",
    "    cax.patch.set_alpha(0)\n",
    "    cax.set_frame_on(False)\n",
    "    #plt.colorbar(orientation='vertical')\n",
    "    plt.show()"
   ]
  },
  {
   "cell_type": "markdown",
   "metadata": {},
   "source": [
    "## Data Dimensions"
   ]
  },
  {
   "cell_type": "markdown",
   "metadata": {},
   "source": [
    "setting ukuran matriks"
   ]
  },
  {
   "cell_type": "code",
   "execution_count": 132,
   "metadata": {},
   "outputs": [],
   "source": [
    "# We know that MNIST images are 28 pixels in each dimension.\n",
    "img_size_x = 25\n",
    "img_size_y = 44\n",
    "\n",
    "# Images are stored in one-dimensional arrays of this length.\n",
    "img_size_flat = img_size_x * img_size_y\n",
    "\n",
    "# Tuple with height and width of images used to reshape arrays.\n",
    "# This is used for plotting the images.\n",
    "img_shape = (img_size_x, img_size_y)\n",
    "\n",
    "# Tuple with height, width and depth used to reshape arrays.\n",
    "# This is used for reshaping in Keras.\n",
    "img_shape_full = (img_size_x, img_size_y, 1)\n",
    "\n",
    "# Number of colour channels for the images: 1 channel for gray-scale.\n",
    "num_channels = 1\n",
    "\n",
    "# Number of classes, one class for each of 10 digits.\n",
    "num_classes = 6"
   ]
  },
  {
   "cell_type": "markdown",
   "metadata": {},
   "source": [
    "### Helper-function buat plot gambar"
   ]
  },
  {
   "cell_type": "markdown",
   "metadata": {},
   "source": [
    "Function used to plot 9 images in a 3x3 grid, and writing the true and predicted classes below each image."
   ]
  },
  {
   "cell_type": "code",
   "execution_count": 133,
   "metadata": {},
   "outputs": [],
   "source": [
    "def plot_images(images, cls_true, cls_pred=None):\n",
    "    assert len(images) == len(cls_true) == 9\n",
    "    \n",
    "    # Create figure with 3x3 sub-plots.\n",
    "    fig, axes = plt.subplots(3, 3)\n",
    "    fig.subplots_adjust(hspace=0.3, wspace=0.3)\n",
    "\n",
    "    for i, ax in enumerate(axes.flat):\n",
    "        # Plot image.\n",
    "        ax.imshow(images[i].reshape(img_shape), cmap='binary')\n",
    "\n",
    "        # Show true and predicted classes.\n",
    "        if cls_pred is None:\n",
    "            xlabel = \"True: {0}\".format(cls_true[i])\n",
    "        else:\n",
    "            xlabel = \"True: {0}, Pred: {1}\".format(cls_true[i], cls_pred[i])\n",
    "\n",
    "        # Show the classes as the label on the x-axis.\n",
    "        ax.set_xlabel(xlabel)\n",
    "        \n",
    "        # Remove ticks from the plot.\n",
    "        ax.set_xticks([])\n",
    "        ax.set_yticks([])\n",
    "    \n",
    "    # Ensure the plot is shown correctly with multiple plots\n",
    "    # in a single Notebook cell.\n",
    "    plt.show()"
   ]
  },
  {
   "cell_type": "markdown",
   "metadata": {},
   "source": [
    "### Ini cara loading lama"
   ]
  },
  {
   "cell_type": "code",
   "execution_count": 134,
   "metadata": {},
   "outputs": [],
   "source": [
    "# Get the first images from the test-set.\n",
    "#images = data.test.images[0:9]\n",
    "\n",
    "#Get the true classes for those images.\n",
    "#cls_true = data.test.cls[0:9]\n",
    "\n",
    "# Plot the images and labels using our helper-function above.\n",
    "#plot_images(images=images, cls_true=cls_true)"
   ]
  },
  {
   "cell_type": "markdown",
   "metadata": {},
   "source": [
    "### Helper-function\n",
    "\n",
    "Buat plotting - tapi belum jalan"
   ]
  },
  {
   "cell_type": "code",
   "execution_count": 135,
   "metadata": {},
   "outputs": [],
   "source": [
    "def plot_example_errors(cls_pred):\n",
    "    # cls_pred is an array of the predicted class-number for\n",
    "    # all images in the test-set.\n",
    "\n",
    "    # Boolean array whether the predicted class is incorrect.\n",
    "    incorrect = (cls_pred != data.test.cls)\n",
    "\n",
    "    # Get the images from the test-set that have been\n",
    "    # incorrectly classified.\n",
    "    images = data.test.images[incorrect]\n",
    "    \n",
    "    # Get the predicted classes for those images.\n",
    "    cls_pred = cls_pred[incorrect]\n",
    "\n",
    "    # Get the true classes for those images.\n",
    "    cls_true = data.test.cls[incorrect]\n",
    "    \n",
    "    # Plot the first 9 images.\n",
    "    plot_images(images=images[0:9],\n",
    "                cls_true=cls_true[0:9],\n",
    "                cls_pred=cls_pred[0:9])"
   ]
  },
  {
   "cell_type": "markdown",
   "metadata": {},
   "source": [
    "## Sequential Model\n",
    "\n",
    "Model dari Keras"
   ]
  },
  {
   "cell_type": "code",
   "execution_count": 136,
   "metadata": {
    "scrolled": true
   },
   "outputs": [],
   "source": [
    "# Start construction of the Keras Sequential model.\n",
    "model = Sequential()\n",
    "\n",
    "# Add an input layer which is similar to a feed_dict in TensorFlow.\n",
    "# Note that the input-shape must be a tuple containing the image-size.\n",
    "model.add(InputLayer(input_shape=(img_size_flat,)))\n",
    "\n",
    "# The input is a flattened array with 784 elements,\n",
    "# but the convolutional layers expect images with shape (28, 28, 1)\n",
    "model.add(Reshape(img_shape_full))\n",
    "\n",
    "# First convolutional layer with ReLU-activation and max-pooling.\n",
    "model.add(Conv2D(kernel_size=5, strides=1, filters=16, padding='same',\n",
    "                 activation='relu', name='layer_conv1'))\n",
    "model.add(MaxPooling2D(pool_size=2, strides=2))\n",
    "\n",
    "# Second convolutional layer with ReLU-activation and max-pooling.\n",
    "model.add(Conv2D(kernel_size=5, strides=1, filters=36, padding='same',\n",
    "                 activation='relu', name='layer_conv2'))\n",
    "model.add(MaxPooling2D(pool_size=2, strides=2))\n",
    "\n",
    "# Flatten the 4-rank output of the convolutional layers\n",
    "# to 2-rank that can be input to a fully-connected / dense layer.\n",
    "model.add(Flatten())\n",
    "\n",
    "# First fully-connected / dense layer with ReLU-activation.\n",
    "model.add(Dense(128, activation='relu'))\n",
    "\n",
    "# Last fully-connected / dense layer with softmax-activation\n",
    "# for use in classification.\n",
    "model.add(Dense(num_classes, activation='softmax'))"
   ]
  },
  {
   "cell_type": "markdown",
   "metadata": {},
   "source": [
    "### Kompilasi Model\n",
    "\n",
    "Kompilasi model"
   ]
  },
  {
   "cell_type": "code",
   "execution_count": 137,
   "metadata": {},
   "outputs": [],
   "source": [
    "from tensorflow.python.keras.optimizers import Adam\n",
    "\n",
    "optimizer = Adam(lr=1e-3)"
   ]
  },
  {
   "cell_type": "markdown",
   "metadata": {},
   "source": [
    "For a classification-problem such as MNIST which has 10 possible classes, we need to use the loss-function called `categorical_crossentropy`. The performance metric we are interested in is the classification accuracy."
   ]
  },
  {
   "cell_type": "code",
   "execution_count": 138,
   "metadata": {},
   "outputs": [],
   "source": [
    "model.compile(optimizer=optimizer,\n",
    "              loss='categorical_crossentropy',\n",
    "              metrics=['accuracy'])"
   ]
  },
  {
   "cell_type": "markdown",
   "metadata": {},
   "source": [
    "### Training\n",
    "\n",
    "Tempat training keseluruhan"
   ]
  },
  {
   "cell_type": "code",
   "execution_count": 142,
   "metadata": {},
   "outputs": [
    {
     "name": "stdout",
     "output_type": "stream",
     "text": [
      "{'ba': 0, 'ju': 1, 'mi': 2, 'nu': 3, 'si': 4, 'ta': 5}\n"
     ]
    }
   ],
   "source": [
    "init(PATH_TRAIN)\n",
    "batch = get_batch(BATCHRUN,PATH_TRAIN)\n",
    "X, Y = next(batch)\n",
    "\n",
    "for i in range(len(X)):\n",
    "    X[i]=X[i].reshape((25*44,))"
   ]
  },
  {
   "cell_type": "code",
   "execution_count": 143,
   "metadata": {},
   "outputs": [
    {
     "data": {
      "text/plain": [
       "(1100,)"
      ]
     },
     "execution_count": 143,
     "metadata": {},
     "output_type": "execute_result"
    }
   ],
   "source": [
    "#check bentuk X -> (1100,)\n",
    "X[1].shape"
   ]
  },
  {
   "cell_type": "code",
   "execution_count": null,
   "metadata": {},
   "outputs": [],
   "source": []
  },
  {
   "cell_type": "code",
   "execution_count": 144,
   "metadata": {},
   "outputs": [
    {
     "name": "stdout",
     "output_type": "stream",
     "text": [
      "Epoch 1/100\n",
      "500/500 [==============================]500/500 [==============================] - 0s 665us/step - loss: 0.0076 - acc: 1.0000\n",
      "\n",
      "Epoch 2/100\n",
      "500/500 [==============================]500/500 [==============================] - 0s 688us/step - loss: 0.0074 - acc: 1.0000\n",
      "\n",
      "Epoch 3/100\n",
      "500/500 [==============================]500/500 [==============================] - 0s 651us/step - loss: 0.0072 - acc: 1.0000\n",
      "\n",
      "Epoch 4/100\n",
      "500/500 [==============================]500/500 [==============================] - 0s 705us/step - loss: 0.0070 - acc: 1.0000\n",
      "\n",
      "Epoch 5/100\n",
      "500/500 [==============================]500/500 [==============================] - 0s 698us/step - loss: 0.0068 - acc: 1.0000\n",
      "\n",
      "Epoch 6/100\n",
      "500/500 [==============================]500/500 [==============================] - 0s 698us/step - loss: 0.0067 - acc: 1.0000\n",
      "\n",
      "Epoch 7/100\n",
      "500/500 [==============================]500/500 [==============================] - 0s 659us/step - loss: 0.0065 - acc: 1.0000\n",
      "\n",
      "Epoch 8/100\n",
      "500/500 [==============================]500/500 [==============================] - 0s 697us/step - loss: 0.0063 - acc: 1.0000\n",
      "\n",
      "Epoch 9/100\n",
      "500/500 [==============================]500/500 [==============================] - 0s 680us/step - loss: 0.0062 - acc: 1.0000\n",
      "\n",
      "Epoch 10/100\n",
      "500/500 [==============================]500/500 [==============================] - 0s 695us/step - loss: 0.0060 - acc: 1.0000\n",
      "\n",
      "Epoch 11/100\n",
      "500/500 [==============================]500/500 [==============================] - 0s 713us/step - loss: 0.0059 - acc: 1.0000\n",
      "\n",
      "Epoch 12/100\n",
      "500/500 [==============================]500/500 [==============================] - 0s 678us/step - loss: 0.0057 - acc: 1.0000\n",
      "\n",
      "Epoch 13/100\n",
      "500/500 [==============================]500/500 [==============================] - 0s 684us/step - loss: 0.0056 - acc: 1.0000\n",
      "\n",
      "Epoch 14/100\n",
      "500/500 [==============================]500/500 [==============================] - 0s 681us/step - loss: 0.0055 - acc: 1.0000\n",
      "\n",
      "Epoch 15/100\n",
      "500/500 [==============================]500/500 [==============================] - 0s 673us/step - loss: 0.0054 - acc: 1.0000\n",
      "\n",
      "Epoch 16/100\n",
      "500/500 [==============================]500/500 [==============================] - 0s 696us/step - loss: 0.0052 - acc: 1.0000\n",
      "\n",
      "Epoch 17/100\n",
      "500/500 [==============================]500/500 [==============================] - 0s 652us/step - loss: 0.0051 - acc: 1.0000\n",
      "\n",
      "Epoch 18/100\n",
      "500/500 [==============================]500/500 [==============================] - 0s 722us/step - loss: 0.0050 - acc: 1.0000\n",
      "\n",
      "Epoch 19/100\n",
      "500/500 [==============================]500/500 [==============================] - 0s 664us/step - loss: 0.0049 - acc: 1.0000\n",
      "\n",
      "Epoch 20/100\n",
      "500/500 [==============================]500/500 [==============================] - 0s 700us/step - loss: 0.0048 - acc: 1.0000\n",
      "\n",
      "Epoch 21/100\n",
      "500/500 [==============================]500/500 [==============================] - 0s 702us/step - loss: 0.0047 - acc: 1.0000\n",
      "\n",
      "Epoch 22/100\n",
      "500/500 [==============================]500/500 [==============================] - 0s 685us/step - loss: 0.0046 - acc: 1.0000\n",
      "\n",
      "Epoch 23/100\n",
      "500/500 [==============================]500/500 [==============================] - 0s 745us/step - loss: 0.0045 - acc: 1.0000\n",
      "\n",
      "Epoch 24/100\n",
      "500/500 [==============================]500/500 [==============================] - 0s 684us/step - loss: 0.0044 - acc: 1.0000\n",
      "\n",
      "Epoch 25/100\n",
      "500/500 [==============================]500/500 [==============================] - 0s 695us/step - loss: 0.0043 - acc: 1.0000\n",
      "\n",
      "Epoch 26/100\n",
      "500/500 [==============================]500/500 [==============================] - 0s 694us/step - loss: 0.0042 - acc: 1.0000\n",
      "\n",
      "Epoch 27/100\n",
      "500/500 [==============================]500/500 [==============================] - 0s 673us/step - loss: 0.0042 - acc: 1.0000\n",
      "\n",
      "Epoch 28/100\n",
      "500/500 [==============================]500/500 [==============================] - 0s 672us/step - loss: 0.0041 - acc: 1.0000\n",
      "\n",
      "Epoch 29/100\n",
      "500/500 [==============================]500/500 [==============================] - 0s 680us/step - loss: 0.0040 - acc: 1.0000\n",
      "\n",
      "Epoch 30/100\n",
      "500/500 [==============================]500/500 [==============================] - 0s 643us/step - loss: 0.0039 - acc: 1.0000\n",
      "\n",
      "Epoch 31/100\n",
      "500/500 [==============================]500/500 [==============================] - 0s 690us/step - loss: 0.0039 - acc: 1.0000\n",
      "\n",
      "Epoch 32/100\n",
      "500/500 [==============================]500/500 [==============================] - 0s 750us/step - loss: 0.0038 - acc: 1.0000\n",
      "\n",
      "Epoch 33/100\n",
      "500/500 [==============================]500/500 [==============================] - 0s 653us/step - loss: 0.0037 - acc: 1.0000\n",
      "\n",
      "Epoch 34/100\n",
      "500/500 [==============================]500/500 [==============================] - 0s 651us/step - loss: 0.0037 - acc: 1.0000\n",
      "\n",
      "Epoch 35/100\n",
      "500/500 [==============================]500/500 [==============================] - 0s 678us/step - loss: 0.0036 - acc: 1.0000\n",
      "\n",
      "Epoch 36/100\n",
      "500/500 [==============================]500/500 [==============================] - 0s 690us/step - loss: 0.0035 - acc: 1.0000\n",
      "\n",
      "Epoch 37/100\n",
      "500/500 [==============================]500/500 [==============================] - 0s 696us/step - loss: 0.0035 - acc: 1.0000\n",
      "\n",
      "Epoch 38/100\n",
      "500/500 [==============================]500/500 [==============================] - 0s 667us/step - loss: 0.0034 - acc: 1.0000\n",
      "\n",
      "Epoch 39/100\n",
      "500/500 [==============================]500/500 [==============================] - 0s 740us/step - loss: 0.0034 - acc: 1.0000\n",
      "\n",
      "Epoch 40/100\n",
      "500/500 [==============================]500/500 [==============================] - 0s 718us/step - loss: 0.0033 - acc: 1.0000\n",
      "\n",
      "Epoch 41/100\n",
      "500/500 [==============================]500/500 [==============================] - 0s 701us/step - loss: 0.0032 - acc: 1.0000\n",
      "\n",
      "Epoch 42/100\n",
      "500/500 [==============================]500/500 [==============================] - 0s 693us/step - loss: 0.0032 - acc: 1.0000\n",
      "\n",
      "Epoch 43/100\n",
      "500/500 [==============================]500/500 [==============================] - 0s 717us/step - loss: 0.0031 - acc: 1.0000\n",
      "\n",
      "Epoch 44/100\n",
      "500/500 [==============================]500/500 [==============================] - 0s 681us/step - loss: 0.0031 - acc: 1.0000\n",
      "\n",
      "Epoch 45/100\n",
      "500/500 [==============================]500/500 [==============================] - 0s 657us/step - loss: 0.0030 - acc: 1.0000\n",
      "\n",
      "Epoch 46/100\n",
      "500/500 [==============================]500/500 [==============================] - 0s 666us/step - loss: 0.0030 - acc: 1.0000\n",
      "\n",
      "Epoch 47/100\n",
      "500/500 [==============================]500/500 [==============================] - 0s 665us/step - loss: 0.0029 - acc: 1.0000\n",
      "\n",
      "Epoch 48/100\n",
      "500/500 [==============================]500/500 [==============================] - 0s 678us/step - loss: 0.0029 - acc: 1.0000\n",
      "\n",
      "Epoch 49/100\n",
      "500/500 [==============================]500/500 [==============================] - 0s 697us/step - loss: 0.0029 - acc: 1.0000\n",
      "\n",
      "Epoch 50/100\n",
      "500/500 [==============================]500/500 [==============================] - 0s 684us/step - loss: 0.0028 - acc: 1.0000\n",
      "\n",
      "Epoch 51/100\n",
      "500/500 [==============================]500/500 [==============================] - 0s 695us/step - loss: 0.0028 - acc: 1.0000\n",
      "\n",
      "Epoch 52/100\n",
      "500/500 [==============================]500/500 [==============================] - 0s 686us/step - loss: 0.0027 - acc: 1.0000\n",
      "\n",
      "Epoch 53/100\n",
      "500/500 [==============================]500/500 [==============================] - 0s 664us/step - loss: 0.0027 - acc: 1.0000\n",
      "\n",
      "Epoch 54/100\n",
      "500/500 [==============================]500/500 [==============================] - 0s 694us/step - loss: 0.0026 - acc: 1.0000\n",
      "\n",
      "Epoch 55/100\n",
      "500/500 [==============================]500/500 [==============================] - 0s 678us/step - loss: 0.0026 - acc: 1.0000\n",
      "\n",
      "Epoch 56/100\n",
      "500/500 [==============================]500/500 [==============================] - 0s 691us/step - loss: 0.0026 - acc: 1.0000\n",
      "\n",
      "Epoch 57/100\n",
      "500/500 [==============================]500/500 [==============================] - 0s 691us/step - loss: 0.0025 - acc: 1.0000\n",
      "\n",
      "Epoch 58/100\n",
      "500/500 [==============================]500/500 [==============================] - 0s 661us/step - loss: 0.0025 - acc: 1.0000\n",
      "\n",
      "Epoch 59/100\n",
      "500/500 [==============================]500/500 [==============================] - 0s 676us/step - loss: 0.0025 - acc: 1.0000\n"
     ]
    },
    {
     "name": "stdout",
     "output_type": "stream",
     "text": [
      "\n",
      "Epoch 60/100\n",
      "500/500 [==============================]500/500 [==============================] - 0s 667us/step - loss: 0.0024 - acc: 1.0000\n",
      "\n",
      "Epoch 61/100\n",
      "500/500 [==============================]500/500 [==============================] - 0s 659us/step - loss: 0.0024 - acc: 1.0000\n",
      "\n",
      "Epoch 62/100\n",
      "500/500 [==============================]500/500 [==============================] - 0s 648us/step - loss: 0.0023 - acc: 1.0000\n",
      "\n",
      "Epoch 63/100\n",
      "500/500 [==============================]500/500 [==============================] - 0s 649us/step - loss: 0.0023 - acc: 1.0000\n",
      "\n",
      "Epoch 64/100\n",
      "500/500 [==============================]500/500 [==============================] - 0s 701us/step - loss: 0.0023 - acc: 1.0000\n",
      "\n",
      "Epoch 65/100\n",
      "500/500 [==============================]500/500 [==============================] - 0s 652us/step - loss: 0.0022 - acc: 1.0000\n",
      "\n",
      "Epoch 66/100\n",
      "500/500 [==============================]500/500 [==============================] - 0s 655us/step - loss: 0.0022 - acc: 1.0000\n",
      "\n",
      "Epoch 67/100\n",
      "500/500 [==============================]500/500 [==============================] - 0s 662us/step - loss: 0.0022 - acc: 1.0000\n",
      "\n",
      "Epoch 68/100\n",
      "500/500 [==============================]500/500 [==============================] - 0s 656us/step - loss: 0.0021 - acc: 1.0000\n",
      "\n",
      "Epoch 69/100\n",
      "500/500 [==============================]500/500 [==============================] - 0s 671us/step - loss: 0.0021 - acc: 1.0000\n",
      "\n",
      "Epoch 70/100\n",
      "500/500 [==============================]500/500 [==============================] - 0s 664us/step - loss: 0.0021 - acc: 1.0000\n",
      "\n",
      "Epoch 71/100\n",
      "500/500 [==============================]500/500 [==============================] - 0s 652us/step - loss: 0.0020 - acc: 1.0000\n",
      "\n",
      "Epoch 72/100\n",
      "500/500 [==============================]500/500 [==============================] - 0s 639us/step - loss: 0.0020 - acc: 1.0000\n",
      "\n",
      "Epoch 73/100\n",
      "500/500 [==============================]500/500 [==============================] - 0s 657us/step - loss: 0.0020 - acc: 1.0000\n",
      "\n",
      "Epoch 74/100\n",
      "500/500 [==============================]500/500 [==============================] - 0s 657us/step - loss: 0.0019 - acc: 1.0000\n",
      "\n",
      "Epoch 75/100\n",
      "500/500 [==============================]500/500 [==============================] - 0s 666us/step - loss: 0.0019 - acc: 1.0000\n",
      "\n",
      "Epoch 76/100\n",
      "500/500 [==============================]500/500 [==============================] - 0s 674us/step - loss: 0.0019 - acc: 1.0000\n",
      "\n",
      "Epoch 77/100\n",
      "500/500 [==============================]500/500 [==============================] - 0s 662us/step - loss: 0.0018 - acc: 1.0000\n",
      "\n",
      "Epoch 78/100\n",
      "500/500 [==============================]500/500 [==============================] - 0s 656us/step - loss: 0.0018 - acc: 1.0000\n",
      "\n",
      "Epoch 79/100\n",
      "500/500 [==============================]500/500 [==============================] - 0s 697us/step - loss: 0.0018 - acc: 1.0000\n",
      "\n",
      "Epoch 80/100\n",
      "500/500 [==============================]500/500 [==============================] - 0s 672us/step - loss: 0.0017 - acc: 1.0000\n",
      "\n",
      "Epoch 81/100\n",
      "500/500 [==============================]500/500 [==============================] - 0s 678us/step - loss: 0.0017 - acc: 1.0000\n",
      "\n",
      "Epoch 82/100\n",
      "500/500 [==============================]500/500 [==============================] - 0s 701us/step - loss: 0.0017 - acc: 1.0000\n",
      "\n",
      "Epoch 83/100\n",
      "500/500 [==============================]500/500 [==============================] - 0s 645us/step - loss: 0.0017 - acc: 1.0000\n",
      "\n",
      "Epoch 84/100\n",
      "500/500 [==============================]500/500 [==============================] - 0s 661us/step - loss: 0.0017 - acc: 1.0000\n",
      "\n",
      "Epoch 85/100\n",
      "500/500 [==============================]500/500 [==============================] - 0s 661us/step - loss: 0.0016 - acc: 1.0000\n",
      "\n",
      "Epoch 86/100\n",
      "500/500 [==============================]500/500 [==============================] - 0s 667us/step - loss: 0.0016 - acc: 1.0000\n",
      "\n",
      "Epoch 87/100\n",
      "500/500 [==============================]500/500 [==============================] - 0s 710us/step - loss: 0.0016 - acc: 1.0000\n",
      "\n",
      "Epoch 88/100\n",
      "500/500 [==============================]500/500 [==============================] - 0s 670us/step - loss: 0.0016 - acc: 1.0000\n",
      "\n",
      "Epoch 89/100\n",
      "500/500 [==============================]500/500 [==============================] - 0s 689us/step - loss: 0.0016 - acc: 1.0000\n",
      "\n",
      "Epoch 90/100\n",
      "500/500 [==============================]500/500 [==============================] - 0s 674us/step - loss: 0.0015 - acc: 1.0000\n",
      "\n",
      "Epoch 91/100\n",
      "500/500 [==============================]500/500 [==============================] - 0s 655us/step - loss: 0.0015 - acc: 1.0000\n",
      "\n",
      "Epoch 92/100\n",
      "500/500 [==============================]500/500 [==============================] - 0s 663us/step - loss: 0.0015 - acc: 1.0000\n",
      "\n",
      "Epoch 93/100\n",
      "500/500 [==============================]500/500 [==============================] - 0s 681us/step - loss: 0.0015 - acc: 1.0000\n",
      "\n",
      "Epoch 94/100\n",
      "500/500 [==============================]500/500 [==============================] - 0s 696us/step - loss: 0.0015 - acc: 1.0000\n",
      "\n",
      "Epoch 95/100\n",
      "500/500 [==============================]500/500 [==============================] - 0s 705us/step - loss: 0.0014 - acc: 1.0000\n",
      "\n",
      "Epoch 96/100\n",
      "500/500 [==============================]500/500 [==============================] - 0s 712us/step - loss: 0.0014 - acc: 1.0000\n",
      "\n",
      "Epoch 97/100\n",
      "500/500 [==============================]500/500 [==============================] - 0s 653us/step - loss: 0.0014 - acc: 1.0000\n",
      "\n",
      "Epoch 98/100\n",
      "500/500 [==============================]500/500 [==============================] - 0s 669us/step - loss: 0.0014 - acc: 1.0000\n",
      "\n",
      "Epoch 99/100\n",
      "500/500 [==============================]500/500 [==============================] - 0s 681us/step - loss: 0.0014 - acc: 1.0000\n",
      "\n",
      "Epoch 100/100\n",
      "500/500 [==============================]500/500 [==============================] - 0s 721us/step - loss: 0.0014 - acc: 1.0000\n",
      "\n"
     ]
    },
    {
     "data": {
      "text/plain": [
       "<tensorflow.python.keras._impl.keras.callbacks.History at 0x24d5ed250f0>"
      ]
     },
     "execution_count": 144,
     "metadata": {},
     "output_type": "execute_result"
    }
   ],
   "source": [
    "EPOCHS = 100\n",
    "model.fit(x=np.array(X),\n",
    "          y=np.array(Y),\n",
    "          epochs=EPOCHS, batch_size=BATCHRUN)"
   ]
  },
  {
   "cell_type": "markdown",
   "metadata": {},
   "source": [
    "### Evaluation\n",
    "\n",
    "Now that the model has been trained we can test its performance on the test-set. This also uses numpy-arrays as input."
   ]
  },
  {
   "cell_type": "code",
   "execution_count": 145,
   "metadata": {},
   "outputs": [
    {
     "name": "stdout",
     "output_type": "stream",
     "text": [
      "500/500 [==============================]500/500 [==============================] - 0s 448us/step\n",
      "\n"
     ]
    }
   ],
   "source": [
    "result = model.evaluate(x=np.array(X),\n",
    "                        y=np.array(Y))"
   ]
  },
  {
   "cell_type": "markdown",
   "metadata": {},
   "source": [
    "Print performa test"
   ]
  },
  {
   "cell_type": "code",
   "execution_count": 146,
   "metadata": {},
   "outputs": [
    {
     "name": "stdout",
     "output_type": "stream",
     "text": [
      "loss 0.001351426505483687\n",
      "acc 1.0\n"
     ]
    }
   ],
   "source": [
    "for name, value in zip(model.metrics_names, result):\n",
    "    print(name, value)"
   ]
  },
  {
   "cell_type": "markdown",
   "metadata": {},
   "source": [
    "Or we can just print the classification accuracy."
   ]
  },
  {
   "cell_type": "code",
   "execution_count": 147,
   "metadata": {},
   "outputs": [
    {
     "name": "stdout",
     "output_type": "stream",
     "text": [
      "acc: 100.00%\n"
     ]
    }
   ],
   "source": [
    "print(\"{0}: {1:.2%}\".format(model.metrics_names[1], result[1]))"
   ]
  },
  {
   "cell_type": "markdown",
   "metadata": {},
   "source": [
    "### Prediksi\n",
    "\n",
    "coba disini bikin prediksi"
   ]
  },
  {
   "cell_type": "code",
   "execution_count": 148,
   "metadata": {},
   "outputs": [],
   "source": [
    "y_pred = model.predict(x=np.array(X))"
   ]
  },
  {
   "cell_type": "markdown",
   "metadata": {},
   "source": [
    "Ambil prediksi jadikan integer"
   ]
  },
  {
   "cell_type": "code",
   "execution_count": 149,
   "metadata": {},
   "outputs": [],
   "source": [
    "cls_pred = np.argmax(y_pred,axis=1)"
   ]
  },
  {
   "cell_type": "code",
   "execution_count": 150,
   "metadata": {},
   "outputs": [],
   "source": [
    "#plot gak bisa\n",
    "#plot_images(images=images,\n",
    "#            cls_true=cls_true,\n",
    "#            cls_pred=cls_pred)"
   ]
  },
  {
   "cell_type": "markdown",
   "metadata": {},
   "source": [
    "### Mis-Classified\n",
    "\n",
    "mencoba prediksi dan test model"
   ]
  },
  {
   "cell_type": "code",
   "execution_count": 151,
   "metadata": {},
   "outputs": [],
   "source": [
    "y_pred = model.predict(x=np.array(X))"
   ]
  },
  {
   "cell_type": "markdown",
   "metadata": {},
   "source": [
    "Then we convert the predicted class-numbers from One-Hot encoded arrays to integers."
   ]
  },
  {
   "cell_type": "code",
   "execution_count": 152,
   "metadata": {},
   "outputs": [],
   "source": [
    "cls_pred = np.argmax(y_pred,axis=1)"
   ]
  },
  {
   "cell_type": "markdown",
   "metadata": {},
   "source": [
    "Plot some of the mis-classified images."
   ]
  },
  {
   "cell_type": "markdown",
   "metadata": {},
   "source": [
    "## Save & Load Model"
   ]
  },
  {
   "cell_type": "code",
   "execution_count": 153,
   "metadata": {},
   "outputs": [],
   "source": [
    "path_model = 'model.keras'"
   ]
  },
  {
   "cell_type": "code",
   "execution_count": 97,
   "metadata": {
    "scrolled": true
   },
   "outputs": [],
   "source": [
    "model.save(path_model)"
   ]
  },
  {
   "cell_type": "markdown",
   "metadata": {},
   "source": [
    "Hapus model"
   ]
  },
  {
   "cell_type": "code",
   "execution_count": 38,
   "metadata": {},
   "outputs": [],
   "source": [
    "del model"
   ]
  },
  {
   "cell_type": "markdown",
   "metadata": {},
   "source": [
    "Import lagi"
   ]
  },
  {
   "cell_type": "code",
   "execution_count": 98,
   "metadata": {},
   "outputs": [],
   "source": [
    "from tensorflow.python.keras.models import load_model"
   ]
  },
  {
   "cell_type": "markdown",
   "metadata": {},
   "source": [
    "Panggil model"
   ]
  },
  {
   "cell_type": "code",
   "execution_count": 101,
   "metadata": {},
   "outputs": [],
   "source": [
    "model3 = load_model(path_model)"
   ]
  },
  {
   "cell_type": "markdown",
   "metadata": {},
   "source": [
    "Coba test model yang di load"
   ]
  },
  {
   "cell_type": "code",
   "execution_count": 154,
   "metadata": {},
   "outputs": [
    {
     "name": "stdout",
     "output_type": "stream",
     "text": [
      "{'ba': 0, 'ju': 1, 'mi': 2, 'nu': 3, 'si': 4, 'ta': 5}\n"
     ]
    }
   ],
   "source": [
    "BATCHRUN=10\n",
    "init(PATH_TEST)\n",
    "batch = get_batch(BATCHRUN,PATH_TEST)\n",
    "X, Y = next(batch)\n",
    "\n",
    "for i in range(len(X)):\n",
    "    X[i]=X[i].reshape((25*44,))\n",
    "    \n",
    "images = np.array(X)"
   ]
  },
  {
   "cell_type": "code",
   "execution_count": 156,
   "metadata": {},
   "outputs": [],
   "source": [
    "cls_true = np.array(Y)"
   ]
  },
  {
   "cell_type": "markdown",
   "metadata": {},
   "source": [
    "We then use the restored model to predict the class-numbers for those images."
   ]
  },
  {
   "cell_type": "code",
   "execution_count": 157,
   "metadata": {},
   "outputs": [],
   "source": [
    "y_pred = model3.predict(x=images)"
   ]
  },
  {
   "cell_type": "code",
   "execution_count": 158,
   "metadata": {},
   "outputs": [
    {
     "data": {
      "text/plain": [
       "array([7.0867548e-12, 9.9286991e-01, 5.4162340e-03, 4.1895447e-36,\n",
       "       1.7138711e-03, 2.2422614e-14], dtype=float32)"
      ]
     },
     "execution_count": 158,
     "metadata": {},
     "output_type": "execute_result"
    }
   ],
   "source": [
    "y_pred[1]"
   ]
  },
  {
   "cell_type": "markdown",
   "metadata": {},
   "source": [
    "Get the class-numbers as integers."
   ]
  },
  {
   "cell_type": "code",
   "execution_count": 159,
   "metadata": {},
   "outputs": [],
   "source": [
    "cls_pred = np.argmax(y_pred, axis=1)"
   ]
  },
  {
   "cell_type": "code",
   "execution_count": 160,
   "metadata": {},
   "outputs": [
    {
     "data": {
      "text/plain": [
       "array([1, 1, 2, 1, 1, 2, 5, 0, 5, 2], dtype=int64)"
      ]
     },
     "execution_count": 160,
     "metadata": {},
     "output_type": "execute_result"
    }
   ],
   "source": [
    "cls_pred"
   ]
  },
  {
   "cell_type": "code",
   "execution_count": 162,
   "metadata": {},
   "outputs": [
    {
     "name": "stdout",
     "output_type": "stream",
     "text": [
      "loss 0.001351426505483687\n",
      "acc 1.0\n"
     ]
    }
   ],
   "source": [
    "#Cek akurasi\n",
    "for name, value in zip(model.metrics_names, result):\n",
    "    print(name, value)"
   ]
  },
  {
   "cell_type": "code",
   "execution_count": null,
   "metadata": {},
   "outputs": [],
   "source": []
  },
  {
   "cell_type": "code",
   "execution_count": null,
   "metadata": {},
   "outputs": [],
   "source": []
  },
  {
   "cell_type": "code",
   "execution_count": null,
   "metadata": {},
   "outputs": [],
   "source": []
  },
  {
   "cell_type": "code",
   "execution_count": null,
   "metadata": {},
   "outputs": [],
   "source": []
  },
  {
   "cell_type": "code",
   "execution_count": null,
   "metadata": {},
   "outputs": [],
   "source": []
  },
  {
   "cell_type": "code",
   "execution_count": null,
   "metadata": {},
   "outputs": [],
   "source": []
  },
  {
   "cell_type": "code",
   "execution_count": null,
   "metadata": {},
   "outputs": [],
   "source": []
  },
  {
   "cell_type": "code",
   "execution_count": null,
   "metadata": {},
   "outputs": [],
   "source": []
  },
  {
   "cell_type": "code",
   "execution_count": null,
   "metadata": {},
   "outputs": [],
   "source": []
  },
  {
   "cell_type": "markdown",
   "metadata": {},
   "source": [
    "# BARU SAMPAI SINI----"
   ]
  },
  {
   "cell_type": "code",
   "execution_count": 112,
   "metadata": {},
   "outputs": [
    {
     "ename": "NameError",
     "evalue": "name 'cls_true' is not defined",
     "output_type": "error",
     "traceback": [
      "\u001b[1;31m---------------------------------------------------------------------------\u001b[0m",
      "\u001b[1;31mNameError\u001b[0m                                 Traceback (most recent call last)",
      "\u001b[1;32m<ipython-input-112-69c6b082b56c>\u001b[0m in \u001b[0;36m<module>\u001b[1;34m()\u001b[0m\n\u001b[0;32m      1\u001b[0m plot_images(images=images,\n\u001b[0;32m      2\u001b[0m             \u001b[0mcls_pred\u001b[0m\u001b[1;33m=\u001b[0m\u001b[0mcls_pred\u001b[0m\u001b[1;33m,\u001b[0m\u001b[1;33m\u001b[0m\u001b[0m\n\u001b[1;32m----> 3\u001b[1;33m             cls_true=cls_true)\n\u001b[0m",
      "\u001b[1;31mNameError\u001b[0m: name 'cls_true' is not defined"
     ]
    }
   ],
   "source": [
    "plot_images(images=images,\n",
    "            cls_pred=cls_pred,\n",
    "            cls_true=cls_true)"
   ]
  },
  {
   "cell_type": "markdown",
   "metadata": {},
   "source": [
    "## Visualization of Layer Weights and Outputs"
   ]
  },
  {
   "cell_type": "markdown",
   "metadata": {},
   "source": [
    "### Helper-function for plotting convolutional weights"
   ]
  },
  {
   "cell_type": "code",
   "execution_count": 46,
   "metadata": {},
   "outputs": [],
   "source": [
    "def plot_conv_weights(weights, input_channel=0):\n",
    "    # Get the lowest and highest values for the weights.\n",
    "    # This is used to correct the colour intensity across\n",
    "    # the images so they can be compared with each other.\n",
    "    w_min = np.min(weights)\n",
    "    w_max = np.max(weights)\n",
    "\n",
    "    # Number of filters used in the conv. layer.\n",
    "    num_filters = weights.shape[3]\n",
    "\n",
    "    # Number of grids to plot.\n",
    "    # Rounded-up, square-root of the number of filters.\n",
    "    num_grids = math.ceil(math.sqrt(num_filters))\n",
    "    \n",
    "    # Create figure with a grid of sub-plots.\n",
    "    fig, axes = plt.subplots(num_grids, num_grids)\n",
    "\n",
    "    # Plot all the filter-weights.\n",
    "    for i, ax in enumerate(axes.flat):\n",
    "        # Only plot the valid filter-weights.\n",
    "        if i<num_filters:\n",
    "            # Get the weights for the i'th filter of the input channel.\n",
    "            # See new_conv_layer() for details on the format\n",
    "            # of this 4-dim tensor.\n",
    "            img = weights[:, :, input_channel, i]\n",
    "\n",
    "            # Plot image.\n",
    "            ax.imshow(img, vmin=w_min, vmax=w_max,\n",
    "                      interpolation='nearest', cmap='seismic')\n",
    "        \n",
    "        # Remove ticks from the plot.\n",
    "        ax.set_xticks([])\n",
    "        ax.set_yticks([])\n",
    "    \n",
    "    # Ensure the plot is shown correctly with multiple plots\n",
    "    # in a single Notebook cell.\n",
    "    plt.show()"
   ]
  },
  {
   "cell_type": "markdown",
   "metadata": {},
   "source": [
    "### Get Layers\n",
    "\n",
    "Keras has a simple way of listing the layers in the model."
   ]
  },
  {
   "cell_type": "code",
   "execution_count": 113,
   "metadata": {},
   "outputs": [
    {
     "name": "stdout",
     "output_type": "stream",
     "text": [
      "_________________________________________________________________\n",
      "Layer (type)                 Output Shape              Param #   \n",
      "=================================================================\n",
      "input_3 (InputLayer)         (None, 1100)              0         \n",
      "_________________________________________________________________\n",
      "reshape_3 (Reshape)          (None, 25, 44, 1)         0         \n",
      "_________________________________________________________________\n",
      "layer_conv1 (Conv2D)         (None, 25, 44, 16)        416       \n",
      "_________________________________________________________________\n",
      "max_pooling2d_5 (MaxPooling2 (None, 12, 22, 16)        0         \n",
      "_________________________________________________________________\n",
      "layer_conv2 (Conv2D)         (None, 12, 22, 36)        14436     \n",
      "_________________________________________________________________\n",
      "max_pooling2d_6 (MaxPooling2 (None, 6, 11, 36)         0         \n",
      "_________________________________________________________________\n",
      "flatten_3 (Flatten)          (None, 2376)              0         \n",
      "_________________________________________________________________\n",
      "dense_5 (Dense)              (None, 128)               304256    \n",
      "_________________________________________________________________\n",
      "dense_6 (Dense)              (None, 6)                 774       \n",
      "=================================================================\n",
      "Total params: 319,882\n",
      "Trainable params: 319,882\n",
      "Non-trainable params: 0\n",
      "_________________________________________________________________\n"
     ]
    }
   ],
   "source": [
    "model3.summary()"
   ]
  },
  {
   "cell_type": "markdown",
   "metadata": {},
   "source": [
    "We count the indices to get the layers we want.\n",
    "\n",
    "The input-layer has index 0."
   ]
  },
  {
   "cell_type": "code",
   "execution_count": 114,
   "metadata": {},
   "outputs": [],
   "source": [
    "layer_input = model3.layers[0]"
   ]
  },
  {
   "cell_type": "markdown",
   "metadata": {},
   "source": [
    "The first convolutional layer has index 2."
   ]
  },
  {
   "cell_type": "code",
   "execution_count": 115,
   "metadata": {
    "scrolled": true
   },
   "outputs": [
    {
     "data": {
      "text/plain": [
       "<tensorflow.python.keras._impl.keras.layers.convolutional.Conv2D at 0x24d5ed32ac8>"
      ]
     },
     "execution_count": 115,
     "metadata": {},
     "output_type": "execute_result"
    }
   ],
   "source": [
    "layer_conv1 = model3.layers[2]\n",
    "layer_conv1"
   ]
  },
  {
   "cell_type": "markdown",
   "metadata": {},
   "source": [
    "The second convolutional layer has index 4."
   ]
  },
  {
   "cell_type": "code",
   "execution_count": 50,
   "metadata": {},
   "outputs": [],
   "source": [
    "layer_conv2 = model3.layers[4]"
   ]
  },
  {
   "cell_type": "markdown",
   "metadata": {},
   "source": [
    "### Convolutional Weights\n",
    "\n",
    "Now that we have the layers we can easily get their weights."
   ]
  },
  {
   "cell_type": "code",
   "execution_count": 52,
   "metadata": {},
   "outputs": [],
   "source": [
    "weights_conv1 = layer_conv1.get_weights()[0]"
   ]
  },
  {
   "cell_type": "markdown",
   "metadata": {},
   "source": [
    "This gives us a 4-rank tensor."
   ]
  },
  {
   "cell_type": "code",
   "execution_count": 53,
   "metadata": {
    "scrolled": true
   },
   "outputs": [
    {
     "data": {
      "text/plain": [
       "(5, 5, 1, 16)"
      ]
     },
     "execution_count": 53,
     "metadata": {},
     "output_type": "execute_result"
    }
   ],
   "source": [
    "weights_conv1.shape"
   ]
  },
  {
   "cell_type": "markdown",
   "metadata": {},
   "source": [
    "Plot the weights using the helper-function from above."
   ]
  },
  {
   "cell_type": "code",
   "execution_count": 54,
   "metadata": {
    "scrolled": true
   },
   "outputs": [
    {
     "data": {
      "image/png": "[encoded data removed]",
      "text/plain": [
       "<matplotlib.figure.Figure at 0x1aeebe5f128>"
      ]
     },
     "metadata": {},
     "output_type": "display_data"
    }
   ],
   "source": [
    "plot_conv_weights(weights=weights_conv1, input_channel=0)"
   ]
  },
  {
   "cell_type": "markdown",
   "metadata": {},
   "source": [
    "We can also get the weights for the second convolutional layer and plot them."
   ]
  },
  {
   "cell_type": "code",
   "execution_count": 55,
   "metadata": {},
   "outputs": [],
   "source": [
    "weights_conv2 = layer_conv2.get_weights()[0]"
   ]
  },
  {
   "cell_type": "code",
   "execution_count": 56,
   "metadata": {},
   "outputs": [
    {
     "data": {
      "image/png": "[encoded data removed]",
      "text/plain": [
       "<matplotlib.figure.Figure at 0x1aee932ca20>"
      ]
     },
     "metadata": {},
     "output_type": "display_data"
    }
   ],
   "source": [
    "plot_conv_weights(weights=weights_conv2, input_channel=0)"
   ]
  },
  {
   "cell_type": "markdown",
   "metadata": {},
   "source": [
    "### Helper-function for plotting the output of a convolutional layer"
   ]
  },
  {
   "cell_type": "code",
   "execution_count": 57,
   "metadata": {},
   "outputs": [],
   "source": [
    "def plot_conv_output(values):\n",
    "    # Number of filters used in the conv. layer.\n",
    "    num_filters = values.shape[3]\n",
    "\n",
    "    # Number of grids to plot.\n",
    "    # Rounded-up, square-root of the number of filters.\n",
    "    num_grids = math.ceil(math.sqrt(num_filters))\n",
    "    \n",
    "    # Create figure with a grid of sub-plots.\n",
    "    fig, axes = plt.subplots(num_grids, num_grids)\n",
    "\n",
    "    # Plot the output images of all the filters.\n",
    "    for i, ax in enumerate(axes.flat):\n",
    "        # Only plot the images for valid filters.\n",
    "        if i<num_filters:\n",
    "            # Get the output image of using the i'th filter.\n",
    "            img = values[0, :, :, i]\n",
    "\n",
    "            # Plot image.\n",
    "            ax.imshow(img, interpolation='nearest', cmap='binary')\n",
    "        \n",
    "        # Remove ticks from the plot.\n",
    "        ax.set_xticks([])\n",
    "        ax.set_yticks([])\n",
    "    \n",
    "    # Ensure the plot is shown correctly with multiple plots\n",
    "    # in a single Notebook cell.\n",
    "    plt.show()"
   ]
  },
  {
   "cell_type": "markdown",
   "metadata": {},
   "source": [
    "### Input Image\n",
    "\n",
    "Helper-function for plotting a single image."
   ]
  },
  {
   "cell_type": "code",
   "execution_count": 58,
   "metadata": {},
   "outputs": [],
   "source": [
    "def plot_image(image):\n",
    "    plt.imshow(image.reshape(img_shape),\n",
    "               interpolation='nearest',\n",
    "               cmap='binary')\n",
    "\n",
    "    plt.show()"
   ]
  },
  {
   "cell_type": "markdown",
   "metadata": {},
   "source": [
    "Plot an image from the test-set which will be used as an example below."
   ]
  },
  {
   "cell_type": "code",
   "execution_count": 67,
   "metadata": {
    "scrolled": true
   },
   "outputs": [
    {
     "data": {
      "image/png": "[encoded data removed]",
      "text/plain": [
       "<matplotlib.figure.Figure at 0x1aeec148f60>"
      ]
     },
     "metadata": {},
     "output_type": "display_data"
    }
   ],
   "source": [
    "image1 = data.test.images[0]\n",
    "plot_image(image1)"
   ]
  },
  {
   "cell_type": "markdown",
   "metadata": {},
   "source": [
    "### Output of Convolutional Layer - Method 1\n",
    "\n",
    "There are different ways of getting the output of a layer in a Keras model. This method uses a so-called K-function which turns a part of the Keras model into a function."
   ]
  },
  {
   "cell_type": "code",
   "execution_count": 73,
   "metadata": {},
   "outputs": [],
   "source": [
    "from tensorflow.python.keras import backend as K\n",
    "from tensorflow.python.keras.models import Model"
   ]
  },
  {
   "cell_type": "code",
   "execution_count": 74,
   "metadata": {},
   "outputs": [],
   "source": [
    "output_conv1 = K.function(inputs=[layer_input.input],\n",
    "                          outputs=[layer_conv1.output])"
   ]
  },
  {
   "cell_type": "markdown",
   "metadata": {},
   "source": [
    "We can then call this function with the input image. Note that the image is wrapped in two lists because the function expects an array of that dimensionality. Likewise, the function returns an array with one more dimensionality than we want so we just take the first element."
   ]
  },
  {
   "cell_type": "code",
   "execution_count": 75,
   "metadata": {},
   "outputs": [
    {
     "data": {
      "text/plain": [
       "(1, 28, 28, 16)"
      ]
     },
     "execution_count": 75,
     "metadata": {},
     "output_type": "execute_result"
    }
   ],
   "source": [
    "layer_output1 = output_conv1([[image1]])[0]\n",
    "layer_output1.shape"
   ]
  },
  {
   "cell_type": "markdown",
   "metadata": {},
   "source": [
    "We can then plot the output of all 16 channels of the convolutional layer."
   ]
  },
  {
   "cell_type": "code",
   "execution_count": 76,
   "metadata": {
    "scrolled": false
   },
   "outputs": [
    {
     "data": {
      "image/png": "[encoded data removed]",
      "text/plain": [
       "<matplotlib.figure.Figure at 0x1aeec886f60>"
      ]
     },
     "metadata": {},
     "output_type": "display_data"
    }
   ],
   "source": [
    "plot_conv_output(values=layer_output1)"
   ]
  },
  {
   "cell_type": "markdown",
   "metadata": {},
   "source": [
    "### Output of Convolutional Layer - Method 2\n",
    "\n",
    "Keras also has another method for getting the output of a layer inside the model. This creates another Functional Model using the same input as the original model, but the output is now taken from the convolutional layer that we are interested in."
   ]
  },
  {
   "cell_type": "code",
   "execution_count": 77,
   "metadata": {
    "scrolled": true
   },
   "outputs": [],
   "source": [
    "output_conv2 = Model(inputs=layer_input.input,\n",
    "                     outputs=layer_conv2.output)"
   ]
  },
  {
   "cell_type": "markdown",
   "metadata": {},
   "source": [
    "This creates a new model-object where we can call the typical Keras functions. To get the output of the convoloutional layer we call the `predict()` function with the input image."
   ]
  },
  {
   "cell_type": "code",
   "execution_count": 78,
   "metadata": {},
   "outputs": [
    {
     "data": {
      "text/plain": [
       "(1, 14, 14, 36)"
      ]
     },
     "execution_count": 78,
     "metadata": {},
     "output_type": "execute_result"
    }
   ],
   "source": [
    "layer_output2 = output_conv2.predict(np.array([image1]))\n",
    "layer_output2.shape"
   ]
  },
  {
   "cell_type": "markdown",
   "metadata": {},
   "source": [
    "We can then plot the images for all 36 channels."
   ]
  },
  {
   "cell_type": "code",
   "execution_count": 79,
   "metadata": {},
   "outputs": [
    {
     "data": {
      "image/png": "[encoded data removed]",
      "text/plain": [
       "<matplotlib.figure.Figure at 0x1aeecc1b9e8>"
      ]
     },
     "metadata": {},
     "output_type": "display_data"
    }
   ],
   "source": [
    "plot_conv_output(values=layer_output2)"
   ]
  },
  {
   "cell_type": "markdown",
   "metadata": {},
   "source": [
    "## Conclusion\n",
    "\n",
    "This tutorial showed how to use the so-called *Keras API* for easily building Convolutional Neural Networks in TensorFlow. Keras is by far the most complete and best designed API for TensorFlow.\n",
    "\n",
    "This tutorial also showed how to use Keras to save and load a model, as well as getting the weights and outputs of convolutional layers.\n",
    "\n",
    "It seems likely that Keras will be the standard API for TensorFlow in the future, for the simple reason that is already very good and it is constantly being improved. So it is recommended that you use Keras."
   ]
  },
  {
   "cell_type": "markdown",
   "metadata": {},
   "source": [
    "## Exercises\n",
    "\n",
    "These are a few suggestions for exercises that may help improve your skills with TensorFlow. It is important to get hands-on experience with TensorFlow in order to learn how to use it properly.\n",
    "\n",
    "You may want to backup this Notebook before making any changes.\n",
    "\n",
    "* Train for more epochs. Does it improve the classification accuracy?\n",
    "* Change the activation function to sigmoid for some of the layers.\n",
    "* Can you find a simple way of changing the activation function for all the layers?\n",
    "* Plot the output of the max-pooling layers instead of the conv-layers.\n",
    "* Replace the 2x2 max-pooling layers with stride=2 in the convolutional layers. Is there a difference in classification accuracy? What if you optimize it again and again? The difference is random, so how would you measure if there really is a difference? What are the pros and cons of using max-pooling vs. stride in the conv-layer?\n",
    "* Change the parameters for the layers, e.g. the kernel, depth, size, etc. What is the difference in time usage and classification accuracy?\n",
    "* Add and remove some convolutional and fully-connected layers.\n",
    "* What is the simplest network you can design that still performs well?\n",
    "* Change the Functional Model so it has another convolutional layer that connects in parallel to the existing conv-layers before going into the dense layers.\n",
    "* Change the Functional Model so it outputs the predicted class both as a One-Hot encoded array and as an integer, so we don't have to use `numpy.argmax()` afterwards.\n",
    "* Remake the program yourself without looking too much at this source-code.\n",
    "* Explain to a friend how the program works."
   ]
  }
 ],
 "metadata": {
  "anaconda-cloud": {},
  "kernelspec": {
   "display_name": "Python 3",
   "language": "python",
   "name": "python3"
  },
  "language_info": {
   "codemirror_mode": {
    "name": "ipython",
    "version": 3
   },
   "file_extension": ".py",
   "mimetype": "text/x-python",
   "name": "python",
   "nbconvert_exporter": "python",
   "pygments_lexer": "ipython3",
   "version": "3.6.4"
  }
 },
 "nbformat": 4,
 "nbformat_minor": 1
}
